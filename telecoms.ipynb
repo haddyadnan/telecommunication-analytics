{
  "nbformat": 4,
  "nbformat_minor": 0,
  "metadata": {
    "colab": {
      "name": "telecoms.ipynb",
      "provenance": []
    },
    "kernelspec": {
      "name": "python3",
      "display_name": "Python 3"
    }
  },
  "cells": [
    {
      "cell_type": "code",
      "metadata": {
        "id": "tIfirI1f976X",
        "colab_type": "code",
        "colab": {}
      },
      "source": [
        "import pandas as pd\n",
        "import numpy as np\n",
        "import matplotlib.pyplot as plt\n",
        "import seaborn as sns\n",
        "import warnings\n",
        "warnings.filterwarnings('ignore')"
      ],
      "execution_count": 112,
      "outputs": []
    },
    {
      "cell_type": "code",
      "metadata": {
        "id": "4HVZSRbc-N25",
        "colab_type": "code",
        "colab": {}
      },
      "source": [
        "df = pd.read_excel('/content/drive/My Drive/Week2_challenge_data_source.xlsx')"
      ],
      "execution_count": 113,
      "outputs": []
    },
    {
      "cell_type": "code",
      "metadata": {
        "id": "KLruZODY-bK-",
        "colab_type": "code",
        "colab": {
          "base_uri": "https://localhost:8080/",
          "height": 518
        },
        "outputId": "2e231855-abe9-41ef-98ee-723a7b2fa60a"
      },
      "source": [
        "df.head()"
      ],
      "execution_count": 114,
      "outputs": [
        {
          "output_type": "execute_result",
          "data": {
            "text/html": [
              "<div>\n",
              "<style scoped>\n",
              "    .dataframe tbody tr th:only-of-type {\n",
              "        vertical-align: middle;\n",
              "    }\n",
              "\n",
              "    .dataframe tbody tr th {\n",
              "        vertical-align: top;\n",
              "    }\n",
              "\n",
              "    .dataframe thead th {\n",
              "        text-align: right;\n",
              "    }\n",
              "</style>\n",
              "<table border=\"1\" class=\"dataframe\">\n",
              "  <thead>\n",
              "    <tr style=\"text-align: right;\">\n",
              "      <th></th>\n",
              "      <th>Bearer Id</th>\n",
              "      <th>Start</th>\n",
              "      <th>Start ms</th>\n",
              "      <th>End</th>\n",
              "      <th>End ms</th>\n",
              "      <th>Dur. (ms)</th>\n",
              "      <th>IMSI</th>\n",
              "      <th>MSISDN/Number</th>\n",
              "      <th>IMEI</th>\n",
              "      <th>Last Location Name</th>\n",
              "      <th>Avg RTT DL (ms)</th>\n",
              "      <th>Avg RTT UL (ms)</th>\n",
              "      <th>Avg Bearer TP DL (kbps)</th>\n",
              "      <th>Avg Bearer TP UL (kbps)</th>\n",
              "      <th>TCP DL Retrans. Vol (Bytes)</th>\n",
              "      <th>TCP UL Retrans. Vol (Bytes)</th>\n",
              "      <th>DL TP &lt; 50 Kbps (%)</th>\n",
              "      <th>50 Kbps &lt; DL TP &lt; 250 Kbps (%)</th>\n",
              "      <th>250 Kbps &lt; DL TP &lt; 1 Mbps (%)</th>\n",
              "      <th>DL TP &gt; 1 Mbps (%)</th>\n",
              "      <th>UL TP &lt; 10 Kbps (%)</th>\n",
              "      <th>10 Kbps &lt; UL TP &lt; 50 Kbps (%)</th>\n",
              "      <th>50 Kbps &lt; UL TP &lt; 300 Kbps (%)</th>\n",
              "      <th>UL TP &gt; 300 Kbps (%)</th>\n",
              "      <th>HTTP DL (Bytes)</th>\n",
              "      <th>HTTP UL (Bytes)</th>\n",
              "      <th>Activity Duration DL (ms)</th>\n",
              "      <th>Activity Duration UL (ms)</th>\n",
              "      <th>Dur. (ms).1</th>\n",
              "      <th>Handset Manufacturer</th>\n",
              "      <th>Handset Type</th>\n",
              "      <th>Nb of sec with 125000B &lt; Vol DL</th>\n",
              "      <th>Nb of sec with 1250B &lt; Vol UL &lt; 6250B</th>\n",
              "      <th>Nb of sec with 31250B &lt; Vol DL &lt; 125000B</th>\n",
              "      <th>Nb of sec with 37500B &lt; Vol UL</th>\n",
              "      <th>Nb of sec with 6250B &lt; Vol DL &lt; 31250B</th>\n",
              "      <th>Nb of sec with 6250B &lt; Vol UL &lt; 37500B</th>\n",
              "      <th>Nb of sec with Vol DL &lt; 6250B</th>\n",
              "      <th>Nb of sec with Vol UL &lt; 1250B</th>\n",
              "      <th>Social Media DL (Bytes)</th>\n",
              "      <th>Social Media UL (Bytes)</th>\n",
              "      <th>Google DL (Bytes)</th>\n",
              "      <th>Google UL (Bytes)</th>\n",
              "      <th>Email DL (Bytes)</th>\n",
              "      <th>Email UL (Bytes)</th>\n",
              "      <th>Youtube DL (Bytes)</th>\n",
              "      <th>Youtube UL (Bytes)</th>\n",
              "      <th>Netflix DL (Bytes)</th>\n",
              "      <th>Netflix UL (Bytes)</th>\n",
              "      <th>Gaming DL (Bytes)</th>\n",
              "      <th>Gaming UL (Bytes)</th>\n",
              "      <th>Other DL (Bytes)</th>\n",
              "      <th>Other UL (Bytes)</th>\n",
              "      <th>Total UL (Bytes)</th>\n",
              "      <th>Total DL (Bytes)</th>\n",
              "    </tr>\n",
              "  </thead>\n",
              "  <tbody>\n",
              "    <tr>\n",
              "      <th>0</th>\n",
              "      <td>13114483460844900352</td>\n",
              "      <td>2019-04-04 12:01:18</td>\n",
              "      <td>770.0</td>\n",
              "      <td>2019-04-25 14:35:31</td>\n",
              "      <td>662.0</td>\n",
              "      <td>1823652.0</td>\n",
              "      <td>2.082014e+14</td>\n",
              "      <td>3.366496e+10</td>\n",
              "      <td>3.552121e+13</td>\n",
              "      <td>9164566995485190</td>\n",
              "      <td>42.0</td>\n",
              "      <td>5.0</td>\n",
              "      <td>23.0</td>\n",
              "      <td>44.0</td>\n",
              "      <td>NaN</td>\n",
              "      <td>NaN</td>\n",
              "      <td>100.0</td>\n",
              "      <td>0.0</td>\n",
              "      <td>0.0</td>\n",
              "      <td>0.0</td>\n",
              "      <td>100.0</td>\n",
              "      <td>0.0</td>\n",
              "      <td>0.0</td>\n",
              "      <td>0.0</td>\n",
              "      <td>NaN</td>\n",
              "      <td>NaN</td>\n",
              "      <td>37624.0</td>\n",
              "      <td>38787.0</td>\n",
              "      <td>1.823653e+09</td>\n",
              "      <td>Samsung</td>\n",
              "      <td>Samsung Galaxy A5 Sm-A520F</td>\n",
              "      <td>NaN</td>\n",
              "      <td>NaN</td>\n",
              "      <td>NaN</td>\n",
              "      <td>NaN</td>\n",
              "      <td>NaN</td>\n",
              "      <td>NaN</td>\n",
              "      <td>213.0</td>\n",
              "      <td>214.0</td>\n",
              "      <td>1545765.0</td>\n",
              "      <td>24420.0</td>\n",
              "      <td>1634479.0</td>\n",
              "      <td>1271433.0</td>\n",
              "      <td>3563542.0</td>\n",
              "      <td>137762.0</td>\n",
              "      <td>15854611.0</td>\n",
              "      <td>2501332.0</td>\n",
              "      <td>8198936.0</td>\n",
              "      <td>9656251.0</td>\n",
              "      <td>278082303.0</td>\n",
              "      <td>14344150.0</td>\n",
              "      <td>171744450.0</td>\n",
              "      <td>8814393.0</td>\n",
              "      <td>36749741.0</td>\n",
              "      <td>308879636.0</td>\n",
              "    </tr>\n",
              "    <tr>\n",
              "      <th>1</th>\n",
              "      <td>13114483482878900224</td>\n",
              "      <td>2019-04-09 13:04:04</td>\n",
              "      <td>235.0</td>\n",
              "      <td>2019-04-25 08:15:48</td>\n",
              "      <td>606.0</td>\n",
              "      <td>1365104.0</td>\n",
              "      <td>2.082019e+14</td>\n",
              "      <td>3.368185e+10</td>\n",
              "      <td>3.579401e+13</td>\n",
              "      <td>L77566A</td>\n",
              "      <td>65.0</td>\n",
              "      <td>5.0</td>\n",
              "      <td>16.0</td>\n",
              "      <td>26.0</td>\n",
              "      <td>NaN</td>\n",
              "      <td>NaN</td>\n",
              "      <td>100.0</td>\n",
              "      <td>0.0</td>\n",
              "      <td>0.0</td>\n",
              "      <td>0.0</td>\n",
              "      <td>100.0</td>\n",
              "      <td>0.0</td>\n",
              "      <td>0.0</td>\n",
              "      <td>0.0</td>\n",
              "      <td>NaN</td>\n",
              "      <td>NaN</td>\n",
              "      <td>168.0</td>\n",
              "      <td>3560.0</td>\n",
              "      <td>1.365104e+09</td>\n",
              "      <td>Samsung</td>\n",
              "      <td>Samsung Galaxy J5 (Sm-J530)</td>\n",
              "      <td>NaN</td>\n",
              "      <td>NaN</td>\n",
              "      <td>NaN</td>\n",
              "      <td>NaN</td>\n",
              "      <td>NaN</td>\n",
              "      <td>NaN</td>\n",
              "      <td>971.0</td>\n",
              "      <td>1022.0</td>\n",
              "      <td>1926113.0</td>\n",
              "      <td>7165.0</td>\n",
              "      <td>3493924.0</td>\n",
              "      <td>920172.0</td>\n",
              "      <td>629046.0</td>\n",
              "      <td>308339.0</td>\n",
              "      <td>20247395.0</td>\n",
              "      <td>19111729.0</td>\n",
              "      <td>18338413.0</td>\n",
              "      <td>17227132.0</td>\n",
              "      <td>608750074.0</td>\n",
              "      <td>1170709.0</td>\n",
              "      <td>526904238.0</td>\n",
              "      <td>15055145.0</td>\n",
              "      <td>53800391.0</td>\n",
              "      <td>653384965.0</td>\n",
              "    </tr>\n",
              "    <tr>\n",
              "      <th>2</th>\n",
              "      <td>13114483484080500736</td>\n",
              "      <td>2019-04-09 17:42:11</td>\n",
              "      <td>1.0</td>\n",
              "      <td>2019-04-25 11:58:13</td>\n",
              "      <td>652.0</td>\n",
              "      <td>1361762.0</td>\n",
              "      <td>2.082003e+14</td>\n",
              "      <td>3.376063e+10</td>\n",
              "      <td>3.528151e+13</td>\n",
              "      <td>D42335A</td>\n",
              "      <td>NaN</td>\n",
              "      <td>NaN</td>\n",
              "      <td>6.0</td>\n",
              "      <td>9.0</td>\n",
              "      <td>NaN</td>\n",
              "      <td>NaN</td>\n",
              "      <td>100.0</td>\n",
              "      <td>0.0</td>\n",
              "      <td>0.0</td>\n",
              "      <td>0.0</td>\n",
              "      <td>100.0</td>\n",
              "      <td>0.0</td>\n",
              "      <td>0.0</td>\n",
              "      <td>0.0</td>\n",
              "      <td>NaN</td>\n",
              "      <td>NaN</td>\n",
              "      <td>0.0</td>\n",
              "      <td>0.0</td>\n",
              "      <td>1.361763e+09</td>\n",
              "      <td>Samsung</td>\n",
              "      <td>Samsung Galaxy A8 (2018)</td>\n",
              "      <td>NaN</td>\n",
              "      <td>NaN</td>\n",
              "      <td>NaN</td>\n",
              "      <td>NaN</td>\n",
              "      <td>NaN</td>\n",
              "      <td>NaN</td>\n",
              "      <td>751.0</td>\n",
              "      <td>695.0</td>\n",
              "      <td>1684053.0</td>\n",
              "      <td>42224.0</td>\n",
              "      <td>8535055.0</td>\n",
              "      <td>1694064.0</td>\n",
              "      <td>2690151.0</td>\n",
              "      <td>672973.0</td>\n",
              "      <td>19725661.0</td>\n",
              "      <td>14699576.0</td>\n",
              "      <td>17587794.0</td>\n",
              "      <td>6163408.0</td>\n",
              "      <td>229584621.0</td>\n",
              "      <td>395630.0</td>\n",
              "      <td>410692588.0</td>\n",
              "      <td>4215763.0</td>\n",
              "      <td>27883638.0</td>\n",
              "      <td>279807335.0</td>\n",
              "    </tr>\n",
              "    <tr>\n",
              "      <th>3</th>\n",
              "      <td>13114483485442799616</td>\n",
              "      <td>2019-04-10 00:31:25</td>\n",
              "      <td>486.0</td>\n",
              "      <td>2019-04-25 07:36:35</td>\n",
              "      <td>171.0</td>\n",
              "      <td>1321509.0</td>\n",
              "      <td>2.082014e+14</td>\n",
              "      <td>3.375034e+10</td>\n",
              "      <td>3.535661e+13</td>\n",
              "      <td>T21824A</td>\n",
              "      <td>NaN</td>\n",
              "      <td>NaN</td>\n",
              "      <td>44.0</td>\n",
              "      <td>44.0</td>\n",
              "      <td>NaN</td>\n",
              "      <td>NaN</td>\n",
              "      <td>100.0</td>\n",
              "      <td>0.0</td>\n",
              "      <td>0.0</td>\n",
              "      <td>0.0</td>\n",
              "      <td>100.0</td>\n",
              "      <td>0.0</td>\n",
              "      <td>0.0</td>\n",
              "      <td>0.0</td>\n",
              "      <td>NaN</td>\n",
              "      <td>NaN</td>\n",
              "      <td>3330.0</td>\n",
              "      <td>37882.0</td>\n",
              "      <td>1.321510e+09</td>\n",
              "      <td>undefined</td>\n",
              "      <td>undefined</td>\n",
              "      <td>NaN</td>\n",
              "      <td>NaN</td>\n",
              "      <td>NaN</td>\n",
              "      <td>NaN</td>\n",
              "      <td>NaN</td>\n",
              "      <td>NaN</td>\n",
              "      <td>17.0</td>\n",
              "      <td>207.0</td>\n",
              "      <td>644121.0</td>\n",
              "      <td>13372.0</td>\n",
              "      <td>9023734.0</td>\n",
              "      <td>2788027.0</td>\n",
              "      <td>1439754.0</td>\n",
              "      <td>631229.0</td>\n",
              "      <td>21388122.0</td>\n",
              "      <td>15146643.0</td>\n",
              "      <td>13994646.0</td>\n",
              "      <td>1097942.0</td>\n",
              "      <td>799538153.0</td>\n",
              "      <td>10849722.0</td>\n",
              "      <td>749039933.0</td>\n",
              "      <td>12797283.0</td>\n",
              "      <td>43324218.0</td>\n",
              "      <td>846028530.0</td>\n",
              "    </tr>\n",
              "    <tr>\n",
              "      <th>4</th>\n",
              "      <td>13114483499480700928</td>\n",
              "      <td>2019-04-12 20:10:23</td>\n",
              "      <td>565.0</td>\n",
              "      <td>2019-04-25 10:40:32</td>\n",
              "      <td>954.0</td>\n",
              "      <td>1089009.0</td>\n",
              "      <td>2.082014e+14</td>\n",
              "      <td>3.369980e+10</td>\n",
              "      <td>3.540701e+13</td>\n",
              "      <td>D88865A</td>\n",
              "      <td>NaN</td>\n",
              "      <td>NaN</td>\n",
              "      <td>6.0</td>\n",
              "      <td>9.0</td>\n",
              "      <td>NaN</td>\n",
              "      <td>NaN</td>\n",
              "      <td>100.0</td>\n",
              "      <td>0.0</td>\n",
              "      <td>0.0</td>\n",
              "      <td>0.0</td>\n",
              "      <td>100.0</td>\n",
              "      <td>0.0</td>\n",
              "      <td>0.0</td>\n",
              "      <td>0.0</td>\n",
              "      <td>NaN</td>\n",
              "      <td>NaN</td>\n",
              "      <td>0.0</td>\n",
              "      <td>0.0</td>\n",
              "      <td>1.089009e+09</td>\n",
              "      <td>Samsung</td>\n",
              "      <td>Samsung Sm-G390F</td>\n",
              "      <td>NaN</td>\n",
              "      <td>NaN</td>\n",
              "      <td>NaN</td>\n",
              "      <td>NaN</td>\n",
              "      <td>NaN</td>\n",
              "      <td>NaN</td>\n",
              "      <td>607.0</td>\n",
              "      <td>604.0</td>\n",
              "      <td>862600.0</td>\n",
              "      <td>50188.0</td>\n",
              "      <td>6248284.0</td>\n",
              "      <td>1500559.0</td>\n",
              "      <td>1936496.0</td>\n",
              "      <td>173853.0</td>\n",
              "      <td>15259380.0</td>\n",
              "      <td>18962873.0</td>\n",
              "      <td>17124581.0</td>\n",
              "      <td>415218.0</td>\n",
              "      <td>527707248.0</td>\n",
              "      <td>3529801.0</td>\n",
              "      <td>550709500.0</td>\n",
              "      <td>13910322.0</td>\n",
              "      <td>38542814.0</td>\n",
              "      <td>569138589.0</td>\n",
              "    </tr>\n",
              "  </tbody>\n",
              "</table>\n",
              "</div>"
            ],
            "text/plain": [
              "              Bearer Id               Start  ...  Total UL (Bytes) Total DL (Bytes)\n",
              "0  13114483460844900352 2019-04-04 12:01:18  ...        36749741.0      308879636.0\n",
              "1  13114483482878900224 2019-04-09 13:04:04  ...        53800391.0      653384965.0\n",
              "2  13114483484080500736 2019-04-09 17:42:11  ...        27883638.0      279807335.0\n",
              "3  13114483485442799616 2019-04-10 00:31:25  ...        43324218.0      846028530.0\n",
              "4  13114483499480700928 2019-04-12 20:10:23  ...        38542814.0      569138589.0\n",
              "\n",
              "[5 rows x 55 columns]"
            ]
          },
          "metadata": {
            "tags": []
          },
          "execution_count": 114
        }
      ]
    },
    {
      "cell_type": "code",
      "metadata": {
        "id": "I_KqECWd-eMn",
        "colab_type": "code",
        "colab": {
          "base_uri": "https://localhost:8080/",
          "height": 1000
        },
        "outputId": "cd53996c-73a0-44a8-981e-5b88d7950cc6"
      },
      "source": [
        "df.info()"
      ],
      "execution_count": 115,
      "outputs": [
        {
          "output_type": "stream",
          "text": [
            "<class 'pandas.core.frame.DataFrame'>\n",
            "RangeIndex: 150001 entries, 0 to 150000\n",
            "Data columns (total 55 columns):\n",
            " #   Column                                    Non-Null Count   Dtype         \n",
            "---  ------                                    --------------   -----         \n",
            " 0   Bearer Id                                 150001 non-null  object        \n",
            " 1   Start                                     150000 non-null  datetime64[ns]\n",
            " 2   Start ms                                  150000 non-null  float64       \n",
            " 3   End                                       150000 non-null  datetime64[ns]\n",
            " 4   End ms                                    150000 non-null  float64       \n",
            " 5   Dur. (ms)                                 150000 non-null  float64       \n",
            " 6   IMSI                                      149431 non-null  float64       \n",
            " 7   MSISDN/Number                             148935 non-null  float64       \n",
            " 8   IMEI                                      149429 non-null  float64       \n",
            " 9   Last Location Name                        148848 non-null  object        \n",
            " 10  Avg RTT DL (ms)                           122172 non-null  float64       \n",
            " 11  Avg RTT UL (ms)                           122189 non-null  float64       \n",
            " 12  Avg Bearer TP DL (kbps)                   150000 non-null  float64       \n",
            " 13  Avg Bearer TP UL (kbps)                   150000 non-null  float64       \n",
            " 14  TCP DL Retrans. Vol (Bytes)               61855 non-null   float64       \n",
            " 15  TCP UL Retrans. Vol (Bytes)               53352 non-null   float64       \n",
            " 16  DL TP < 50 Kbps (%)                       149247 non-null  float64       \n",
            " 17  50 Kbps < DL TP < 250 Kbps (%)            149247 non-null  float64       \n",
            " 18  250 Kbps < DL TP < 1 Mbps (%)             149247 non-null  float64       \n",
            " 19  DL TP > 1 Mbps (%)                        149247 non-null  float64       \n",
            " 20  UL TP < 10 Kbps (%)                       149209 non-null  float64       \n",
            " 21  10 Kbps < UL TP < 50 Kbps (%)             149209 non-null  float64       \n",
            " 22  50 Kbps < UL TP < 300 Kbps (%)            149209 non-null  float64       \n",
            " 23  UL TP > 300 Kbps (%)                      149209 non-null  float64       \n",
            " 24  HTTP DL (Bytes)                           68527 non-null   float64       \n",
            " 25  HTTP UL (Bytes)                           68191 non-null   float64       \n",
            " 26  Activity Duration DL (ms)                 150000 non-null  float64       \n",
            " 27  Activity Duration UL (ms)                 150000 non-null  float64       \n",
            " 28  Dur. (ms).1                               150000 non-null  float64       \n",
            " 29  Handset Manufacturer                      149429 non-null  object        \n",
            " 30  Handset Type                              149429 non-null  object        \n",
            " 31  Nb of sec with 125000B < Vol DL           52463 non-null   float64       \n",
            " 32  Nb of sec with 1250B < Vol UL < 6250B     57107 non-null   float64       \n",
            " 33  Nb of sec with 31250B < Vol DL < 125000B  56415 non-null   float64       \n",
            " 34  Nb of sec with 37500B < Vol UL            19747 non-null   float64       \n",
            " 35  Nb of sec with 6250B < Vol DL < 31250B    61684 non-null   float64       \n",
            " 36  Nb of sec with 6250B < Vol UL < 37500B    38158 non-null   float64       \n",
            " 37  Nb of sec with Vol DL < 6250B             149246 non-null  float64       \n",
            " 38  Nb of sec with Vol UL < 1250B             149208 non-null  float64       \n",
            " 39  Social Media DL (Bytes)                   150001 non-null  float64       \n",
            " 40  Social Media UL (Bytes)                   150001 non-null  float64       \n",
            " 41  Google DL (Bytes)                         150001 non-null  float64       \n",
            " 42  Google UL (Bytes)                         150001 non-null  float64       \n",
            " 43  Email DL (Bytes)                          150001 non-null  float64       \n",
            " 44  Email UL (Bytes)                          150001 non-null  float64       \n",
            " 45  Youtube DL (Bytes)                        150001 non-null  float64       \n",
            " 46  Youtube UL (Bytes)                        150001 non-null  float64       \n",
            " 47  Netflix DL (Bytes)                        150001 non-null  float64       \n",
            " 48  Netflix UL (Bytes)                        150001 non-null  float64       \n",
            " 49  Gaming DL (Bytes)                         150001 non-null  float64       \n",
            " 50  Gaming UL (Bytes)                         150001 non-null  float64       \n",
            " 51  Other DL (Bytes)                          150001 non-null  float64       \n",
            " 52  Other UL (Bytes)                          150001 non-null  float64       \n",
            " 53  Total UL (Bytes)                          150000 non-null  float64       \n",
            " 54  Total DL (Bytes)                          150000 non-null  float64       \n",
            "dtypes: datetime64[ns](2), float64(49), object(4)\n",
            "memory usage: 62.9+ MB\n"
          ],
          "name": "stdout"
        }
      ]
    },
    {
      "cell_type": "code",
      "metadata": {
        "id": "mAjGefkQ-h2L",
        "colab_type": "code",
        "colab": {
          "base_uri": "https://localhost:8080/",
          "height": 354
        },
        "outputId": "ab0c2f30-2210-4c3e-d394-5eab4c43cb3f"
      },
      "source": [
        "df.describe()"
      ],
      "execution_count": 116,
      "outputs": [
        {
          "output_type": "execute_result",
          "data": {
            "text/html": [
              "<div>\n",
              "<style scoped>\n",
              "    .dataframe tbody tr th:only-of-type {\n",
              "        vertical-align: middle;\n",
              "    }\n",
              "\n",
              "    .dataframe tbody tr th {\n",
              "        vertical-align: top;\n",
              "    }\n",
              "\n",
              "    .dataframe thead th {\n",
              "        text-align: right;\n",
              "    }\n",
              "</style>\n",
              "<table border=\"1\" class=\"dataframe\">\n",
              "  <thead>\n",
              "    <tr style=\"text-align: right;\">\n",
              "      <th></th>\n",
              "      <th>Start ms</th>\n",
              "      <th>End ms</th>\n",
              "      <th>Dur. (ms)</th>\n",
              "      <th>IMSI</th>\n",
              "      <th>MSISDN/Number</th>\n",
              "      <th>IMEI</th>\n",
              "      <th>Avg RTT DL (ms)</th>\n",
              "      <th>Avg RTT UL (ms)</th>\n",
              "      <th>Avg Bearer TP DL (kbps)</th>\n",
              "      <th>Avg Bearer TP UL (kbps)</th>\n",
              "      <th>TCP DL Retrans. Vol (Bytes)</th>\n",
              "      <th>TCP UL Retrans. Vol (Bytes)</th>\n",
              "      <th>DL TP &lt; 50 Kbps (%)</th>\n",
              "      <th>50 Kbps &lt; DL TP &lt; 250 Kbps (%)</th>\n",
              "      <th>250 Kbps &lt; DL TP &lt; 1 Mbps (%)</th>\n",
              "      <th>DL TP &gt; 1 Mbps (%)</th>\n",
              "      <th>UL TP &lt; 10 Kbps (%)</th>\n",
              "      <th>10 Kbps &lt; UL TP &lt; 50 Kbps (%)</th>\n",
              "      <th>50 Kbps &lt; UL TP &lt; 300 Kbps (%)</th>\n",
              "      <th>UL TP &gt; 300 Kbps (%)</th>\n",
              "      <th>HTTP DL (Bytes)</th>\n",
              "      <th>HTTP UL (Bytes)</th>\n",
              "      <th>Activity Duration DL (ms)</th>\n",
              "      <th>Activity Duration UL (ms)</th>\n",
              "      <th>Dur. (ms).1</th>\n",
              "      <th>Nb of sec with 125000B &lt; Vol DL</th>\n",
              "      <th>Nb of sec with 1250B &lt; Vol UL &lt; 6250B</th>\n",
              "      <th>Nb of sec with 31250B &lt; Vol DL &lt; 125000B</th>\n",
              "      <th>Nb of sec with 37500B &lt; Vol UL</th>\n",
              "      <th>Nb of sec with 6250B &lt; Vol DL &lt; 31250B</th>\n",
              "      <th>Nb of sec with 6250B &lt; Vol UL &lt; 37500B</th>\n",
              "      <th>Nb of sec with Vol DL &lt; 6250B</th>\n",
              "      <th>Nb of sec with Vol UL &lt; 1250B</th>\n",
              "      <th>Social Media DL (Bytes)</th>\n",
              "      <th>Social Media UL (Bytes)</th>\n",
              "      <th>Google DL (Bytes)</th>\n",
              "      <th>Google UL (Bytes)</th>\n",
              "      <th>Email DL (Bytes)</th>\n",
              "      <th>Email UL (Bytes)</th>\n",
              "      <th>Youtube DL (Bytes)</th>\n",
              "      <th>Youtube UL (Bytes)</th>\n",
              "      <th>Netflix DL (Bytes)</th>\n",
              "      <th>Netflix UL (Bytes)</th>\n",
              "      <th>Gaming DL (Bytes)</th>\n",
              "      <th>Gaming UL (Bytes)</th>\n",
              "      <th>Other DL (Bytes)</th>\n",
              "      <th>Other UL (Bytes)</th>\n",
              "      <th>Total UL (Bytes)</th>\n",
              "      <th>Total DL (Bytes)</th>\n",
              "    </tr>\n",
              "  </thead>\n",
              "  <tbody>\n",
              "    <tr>\n",
              "      <th>count</th>\n",
              "      <td>150000.000000</td>\n",
              "      <td>150000.000000</td>\n",
              "      <td>1.500000e+05</td>\n",
              "      <td>1.494310e+05</td>\n",
              "      <td>1.489350e+05</td>\n",
              "      <td>1.494290e+05</td>\n",
              "      <td>122172.000000</td>\n",
              "      <td>122189.000000</td>\n",
              "      <td>150000.000000</td>\n",
              "      <td>150000.000000</td>\n",
              "      <td>6.185500e+04</td>\n",
              "      <td>5.335200e+04</td>\n",
              "      <td>149247.000000</td>\n",
              "      <td>149247.000000</td>\n",
              "      <td>149247.000000</td>\n",
              "      <td>149247.000000</td>\n",
              "      <td>149209.000000</td>\n",
              "      <td>149209.000000</td>\n",
              "      <td>149209.000000</td>\n",
              "      <td>149209.000000</td>\n",
              "      <td>6.852700e+04</td>\n",
              "      <td>6.819100e+04</td>\n",
              "      <td>1.500000e+05</td>\n",
              "      <td>1.500000e+05</td>\n",
              "      <td>1.500000e+05</td>\n",
              "      <td>52463.000000</td>\n",
              "      <td>57107.000000</td>\n",
              "      <td>56415.000000</td>\n",
              "      <td>19747.000000</td>\n",
              "      <td>61684.000000</td>\n",
              "      <td>38158.000000</td>\n",
              "      <td>149246.000000</td>\n",
              "      <td>149208.000000</td>\n",
              "      <td>1.500010e+05</td>\n",
              "      <td>150001.000000</td>\n",
              "      <td>1.500010e+05</td>\n",
              "      <td>1.500010e+05</td>\n",
              "      <td>1.500010e+05</td>\n",
              "      <td>150001.000000</td>\n",
              "      <td>1.500010e+05</td>\n",
              "      <td>1.500010e+05</td>\n",
              "      <td>1.500010e+05</td>\n",
              "      <td>1.500010e+05</td>\n",
              "      <td>1.500010e+05</td>\n",
              "      <td>1.500010e+05</td>\n",
              "      <td>1.500010e+05</td>\n",
              "      <td>1.500010e+05</td>\n",
              "      <td>1.500000e+05</td>\n",
              "      <td>1.500000e+05</td>\n",
              "    </tr>\n",
              "    <tr>\n",
              "      <th>mean</th>\n",
              "      <td>499.188200</td>\n",
              "      <td>498.800880</td>\n",
              "      <td>1.046086e+05</td>\n",
              "      <td>2.082016e+14</td>\n",
              "      <td>4.188282e+10</td>\n",
              "      <td>4.847455e+13</td>\n",
              "      <td>109.795706</td>\n",
              "      <td>17.662883</td>\n",
              "      <td>13300.045927</td>\n",
              "      <td>1770.428647</td>\n",
              "      <td>2.080991e+07</td>\n",
              "      <td>7.596587e+05</td>\n",
              "      <td>92.844754</td>\n",
              "      <td>3.069355</td>\n",
              "      <td>1.717341</td>\n",
              "      <td>1.609654</td>\n",
              "      <td>98.530142</td>\n",
              "      <td>0.776749</td>\n",
              "      <td>0.147987</td>\n",
              "      <td>0.078923</td>\n",
              "      <td>1.144710e+08</td>\n",
              "      <td>3.242301e+06</td>\n",
              "      <td>1.829177e+06</td>\n",
              "      <td>1.408880e+06</td>\n",
              "      <td>1.046091e+08</td>\n",
              "      <td>989.699998</td>\n",
              "      <td>340.434395</td>\n",
              "      <td>810.837401</td>\n",
              "      <td>149.257052</td>\n",
              "      <td>965.464756</td>\n",
              "      <td>141.304812</td>\n",
              "      <td>3719.787552</td>\n",
              "      <td>4022.083454</td>\n",
              "      <td>1.795322e+06</td>\n",
              "      <td>32928.434380</td>\n",
              "      <td>5.750753e+06</td>\n",
              "      <td>2.056542e+06</td>\n",
              "      <td>1.791729e+06</td>\n",
              "      <td>467373.441940</td>\n",
              "      <td>1.163407e+07</td>\n",
              "      <td>1.100941e+07</td>\n",
              "      <td>1.162685e+07</td>\n",
              "      <td>1.100175e+07</td>\n",
              "      <td>4.220447e+08</td>\n",
              "      <td>8.288398e+06</td>\n",
              "      <td>4.211005e+08</td>\n",
              "      <td>8.264799e+06</td>\n",
              "      <td>4.112121e+07</td>\n",
              "      <td>4.546434e+08</td>\n",
              "    </tr>\n",
              "    <tr>\n",
              "      <th>std</th>\n",
              "      <td>288.611834</td>\n",
              "      <td>288.097653</td>\n",
              "      <td>8.103762e+04</td>\n",
              "      <td>2.148809e+10</td>\n",
              "      <td>2.447443e+12</td>\n",
              "      <td>2.241637e+13</td>\n",
              "      <td>619.782739</td>\n",
              "      <td>84.793524</td>\n",
              "      <td>23971.878541</td>\n",
              "      <td>4625.355500</td>\n",
              "      <td>1.825665e+08</td>\n",
              "      <td>2.645305e+07</td>\n",
              "      <td>13.038031</td>\n",
              "      <td>6.215233</td>\n",
              "      <td>4.159538</td>\n",
              "      <td>4.828890</td>\n",
              "      <td>4.634285</td>\n",
              "      <td>3.225176</td>\n",
              "      <td>1.624523</td>\n",
              "      <td>1.295396</td>\n",
              "      <td>9.631946e+08</td>\n",
              "      <td>1.957064e+07</td>\n",
              "      <td>5.696395e+06</td>\n",
              "      <td>4.643231e+06</td>\n",
              "      <td>8.103761e+07</td>\n",
              "      <td>2546.524440</td>\n",
              "      <td>1445.365032</td>\n",
              "      <td>1842.162008</td>\n",
              "      <td>1219.112287</td>\n",
              "      <td>1946.387608</td>\n",
              "      <td>993.349688</td>\n",
              "      <td>9171.609010</td>\n",
              "      <td>10160.324314</td>\n",
              "      <td>1.035482e+06</td>\n",
              "      <td>19006.178256</td>\n",
              "      <td>3.309097e+06</td>\n",
              "      <td>1.189917e+06</td>\n",
              "      <td>1.035840e+06</td>\n",
              "      <td>269969.307031</td>\n",
              "      <td>6.710569e+06</td>\n",
              "      <td>6.345423e+06</td>\n",
              "      <td>6.725218e+06</td>\n",
              "      <td>6.359490e+06</td>\n",
              "      <td>2.439675e+08</td>\n",
              "      <td>4.782700e+06</td>\n",
              "      <td>2.432050e+08</td>\n",
              "      <td>4.769004e+06</td>\n",
              "      <td>1.127639e+07</td>\n",
              "      <td>2.441429e+08</td>\n",
              "    </tr>\n",
              "    <tr>\n",
              "      <th>min</th>\n",
              "      <td>0.000000</td>\n",
              "      <td>0.000000</td>\n",
              "      <td>7.142000e+03</td>\n",
              "      <td>2.040471e+14</td>\n",
              "      <td>3.360100e+10</td>\n",
              "      <td>4.400152e+11</td>\n",
              "      <td>0.000000</td>\n",
              "      <td>0.000000</td>\n",
              "      <td>0.000000</td>\n",
              "      <td>0.000000</td>\n",
              "      <td>2.000000e+00</td>\n",
              "      <td>1.000000e+00</td>\n",
              "      <td>0.000000</td>\n",
              "      <td>0.000000</td>\n",
              "      <td>0.000000</td>\n",
              "      <td>0.000000</td>\n",
              "      <td>0.000000</td>\n",
              "      <td>0.000000</td>\n",
              "      <td>0.000000</td>\n",
              "      <td>0.000000</td>\n",
              "      <td>4.000000e+01</td>\n",
              "      <td>4.000000e+01</td>\n",
              "      <td>0.000000e+00</td>\n",
              "      <td>0.000000e+00</td>\n",
              "      <td>7.142988e+06</td>\n",
              "      <td>1.000000</td>\n",
              "      <td>1.000000</td>\n",
              "      <td>1.000000</td>\n",
              "      <td>1.000000</td>\n",
              "      <td>1.000000</td>\n",
              "      <td>1.000000</td>\n",
              "      <td>1.000000</td>\n",
              "      <td>1.000000</td>\n",
              "      <td>1.200000e+01</td>\n",
              "      <td>0.000000</td>\n",
              "      <td>2.070000e+02</td>\n",
              "      <td>3.000000e+00</td>\n",
              "      <td>1.400000e+01</td>\n",
              "      <td>2.000000</td>\n",
              "      <td>5.300000e+01</td>\n",
              "      <td>1.050000e+02</td>\n",
              "      <td>4.200000e+01</td>\n",
              "      <td>3.500000e+01</td>\n",
              "      <td>2.516000e+03</td>\n",
              "      <td>5.900000e+01</td>\n",
              "      <td>3.290000e+03</td>\n",
              "      <td>1.480000e+02</td>\n",
              "      <td>2.866892e+06</td>\n",
              "      <td>7.114041e+06</td>\n",
              "    </tr>\n",
              "    <tr>\n",
              "      <th>25%</th>\n",
              "      <td>250.000000</td>\n",
              "      <td>251.000000</td>\n",
              "      <td>5.744050e+04</td>\n",
              "      <td>2.082014e+14</td>\n",
              "      <td>3.365130e+10</td>\n",
              "      <td>3.546071e+13</td>\n",
              "      <td>32.000000</td>\n",
              "      <td>2.000000</td>\n",
              "      <td>43.000000</td>\n",
              "      <td>47.000000</td>\n",
              "      <td>3.565150e+04</td>\n",
              "      <td>4.694750e+03</td>\n",
              "      <td>91.000000</td>\n",
              "      <td>0.000000</td>\n",
              "      <td>0.000000</td>\n",
              "      <td>0.000000</td>\n",
              "      <td>99.000000</td>\n",
              "      <td>0.000000</td>\n",
              "      <td>0.000000</td>\n",
              "      <td>0.000000</td>\n",
              "      <td>1.124035e+05</td>\n",
              "      <td>2.432200e+04</td>\n",
              "      <td>1.487775e+04</td>\n",
              "      <td>2.153975e+04</td>\n",
              "      <td>5.744079e+07</td>\n",
              "      <td>20.000000</td>\n",
              "      <td>10.000000</td>\n",
              "      <td>26.000000</td>\n",
              "      <td>2.000000</td>\n",
              "      <td>39.000000</td>\n",
              "      <td>3.000000</td>\n",
              "      <td>87.000000</td>\n",
              "      <td>106.000000</td>\n",
              "      <td>8.991480e+05</td>\n",
              "      <td>16448.000000</td>\n",
              "      <td>2.882393e+06</td>\n",
              "      <td>1.024279e+06</td>\n",
              "      <td>8.927930e+05</td>\n",
              "      <td>233383.000000</td>\n",
              "      <td>5.833501e+06</td>\n",
              "      <td>5.517965e+06</td>\n",
              "      <td>5.777156e+06</td>\n",
              "      <td>5.475981e+06</td>\n",
              "      <td>2.104733e+08</td>\n",
              "      <td>4.128476e+06</td>\n",
              "      <td>2.101869e+08</td>\n",
              "      <td>4.145943e+06</td>\n",
              "      <td>3.322201e+07</td>\n",
              "      <td>2.431068e+08</td>\n",
              "    </tr>\n",
              "    <tr>\n",
              "      <th>50%</th>\n",
              "      <td>499.000000</td>\n",
              "      <td>500.000000</td>\n",
              "      <td>8.639900e+04</td>\n",
              "      <td>2.082015e+14</td>\n",
              "      <td>3.366371e+10</td>\n",
              "      <td>3.572201e+13</td>\n",
              "      <td>45.000000</td>\n",
              "      <td>5.000000</td>\n",
              "      <td>63.000000</td>\n",
              "      <td>63.000000</td>\n",
              "      <td>5.687300e+05</td>\n",
              "      <td>2.094950e+04</td>\n",
              "      <td>100.000000</td>\n",
              "      <td>0.000000</td>\n",
              "      <td>0.000000</td>\n",
              "      <td>0.000000</td>\n",
              "      <td>100.000000</td>\n",
              "      <td>0.000000</td>\n",
              "      <td>0.000000</td>\n",
              "      <td>0.000000</td>\n",
              "      <td>1.941949e+06</td>\n",
              "      <td>2.297330e+05</td>\n",
              "      <td>3.930450e+04</td>\n",
              "      <td>4.679350e+04</td>\n",
              "      <td>8.639998e+07</td>\n",
              "      <td>128.000000</td>\n",
              "      <td>52.000000</td>\n",
              "      <td>164.000000</td>\n",
              "      <td>8.000000</td>\n",
              "      <td>288.000000</td>\n",
              "      <td>8.000000</td>\n",
              "      <td>203.000000</td>\n",
              "      <td>217.000000</td>\n",
              "      <td>1.794369e+06</td>\n",
              "      <td>32920.000000</td>\n",
              "      <td>5.765829e+06</td>\n",
              "      <td>2.054573e+06</td>\n",
              "      <td>1.793505e+06</td>\n",
              "      <td>466250.000000</td>\n",
              "      <td>1.161602e+07</td>\n",
              "      <td>1.101345e+07</td>\n",
              "      <td>1.164222e+07</td>\n",
              "      <td>1.099638e+07</td>\n",
              "      <td>4.234081e+08</td>\n",
              "      <td>8.291208e+06</td>\n",
              "      <td>4.218030e+08</td>\n",
              "      <td>8.267071e+06</td>\n",
              "      <td>4.114331e+07</td>\n",
              "      <td>4.558411e+08</td>\n",
              "    </tr>\n",
              "    <tr>\n",
              "      <th>75%</th>\n",
              "      <td>749.000000</td>\n",
              "      <td>750.000000</td>\n",
              "      <td>1.324302e+05</td>\n",
              "      <td>2.082018e+14</td>\n",
              "      <td>3.368349e+10</td>\n",
              "      <td>8.611970e+13</td>\n",
              "      <td>70.000000</td>\n",
              "      <td>15.000000</td>\n",
              "      <td>19710.750000</td>\n",
              "      <td>1120.000000</td>\n",
              "      <td>3.768308e+06</td>\n",
              "      <td>8.402025e+04</td>\n",
              "      <td>100.000000</td>\n",
              "      <td>4.000000</td>\n",
              "      <td>1.000000</td>\n",
              "      <td>0.000000</td>\n",
              "      <td>100.000000</td>\n",
              "      <td>0.000000</td>\n",
              "      <td>0.000000</td>\n",
              "      <td>0.000000</td>\n",
              "      <td>2.504290e+07</td>\n",
              "      <td>1.542827e+06</td>\n",
              "      <td>6.796095e+05</td>\n",
              "      <td>5.990952e+05</td>\n",
              "      <td>1.324308e+08</td>\n",
              "      <td>693.500000</td>\n",
              "      <td>203.000000</td>\n",
              "      <td>757.000000</td>\n",
              "      <td>35.000000</td>\n",
              "      <td>1092.000000</td>\n",
              "      <td>31.000000</td>\n",
              "      <td>2650.000000</td>\n",
              "      <td>2451.000000</td>\n",
              "      <td>2.694938e+06</td>\n",
              "      <td>49334.000000</td>\n",
              "      <td>8.623552e+06</td>\n",
              "      <td>3.088454e+06</td>\n",
              "      <td>2.689327e+06</td>\n",
              "      <td>700440.000000</td>\n",
              "      <td>1.744852e+07</td>\n",
              "      <td>1.651556e+07</td>\n",
              "      <td>1.747048e+07</td>\n",
              "      <td>1.650727e+07</td>\n",
              "      <td>6.331742e+08</td>\n",
              "      <td>1.243162e+07</td>\n",
              "      <td>6.316918e+08</td>\n",
              "      <td>1.238415e+07</td>\n",
              "      <td>4.903424e+07</td>\n",
              "      <td>6.657055e+08</td>\n",
              "    </tr>\n",
              "    <tr>\n",
              "      <th>max</th>\n",
              "      <td>999.000000</td>\n",
              "      <td>999.000000</td>\n",
              "      <td>1.859336e+06</td>\n",
              "      <td>2.140743e+14</td>\n",
              "      <td>8.823971e+14</td>\n",
              "      <td>9.900120e+13</td>\n",
              "      <td>96923.000000</td>\n",
              "      <td>7120.000000</td>\n",
              "      <td>378160.000000</td>\n",
              "      <td>58613.000000</td>\n",
              "      <td>4.294426e+09</td>\n",
              "      <td>2.908226e+09</td>\n",
              "      <td>100.000000</td>\n",
              "      <td>93.000000</td>\n",
              "      <td>100.000000</td>\n",
              "      <td>94.000000</td>\n",
              "      <td>100.000000</td>\n",
              "      <td>98.000000</td>\n",
              "      <td>100.000000</td>\n",
              "      <td>96.000000</td>\n",
              "      <td>7.253064e+10</td>\n",
              "      <td>1.491890e+09</td>\n",
              "      <td>1.365365e+08</td>\n",
              "      <td>1.449113e+08</td>\n",
              "      <td>1.859336e+09</td>\n",
              "      <td>81476.000000</td>\n",
              "      <td>85412.000000</td>\n",
              "      <td>58525.000000</td>\n",
              "      <td>50553.000000</td>\n",
              "      <td>66913.000000</td>\n",
              "      <td>49565.000000</td>\n",
              "      <td>604061.000000</td>\n",
              "      <td>604122.000000</td>\n",
              "      <td>3.586064e+06</td>\n",
              "      <td>65870.000000</td>\n",
              "      <td>1.146283e+07</td>\n",
              "      <td>4.121357e+06</td>\n",
              "      <td>3.586146e+06</td>\n",
              "      <td>936418.000000</td>\n",
              "      <td>2.325910e+07</td>\n",
              "      <td>2.201196e+07</td>\n",
              "      <td>2.325919e+07</td>\n",
              "      <td>2.201196e+07</td>\n",
              "      <td>8.434419e+08</td>\n",
              "      <td>1.655879e+07</td>\n",
              "      <td>8.434425e+08</td>\n",
              "      <td>1.655882e+07</td>\n",
              "      <td>7.833131e+07</td>\n",
              "      <td>9.029696e+08</td>\n",
              "    </tr>\n",
              "  </tbody>\n",
              "</table>\n",
              "</div>"
            ],
            "text/plain": [
              "            Start ms         End ms  ...  Total UL (Bytes)  Total DL (Bytes)\n",
              "count  150000.000000  150000.000000  ...      1.500000e+05      1.500000e+05\n",
              "mean      499.188200     498.800880  ...      4.112121e+07      4.546434e+08\n",
              "std       288.611834     288.097653  ...      1.127639e+07      2.441429e+08\n",
              "min         0.000000       0.000000  ...      2.866892e+06      7.114041e+06\n",
              "25%       250.000000     251.000000  ...      3.322201e+07      2.431068e+08\n",
              "50%       499.000000     500.000000  ...      4.114331e+07      4.558411e+08\n",
              "75%       749.000000     750.000000  ...      4.903424e+07      6.657055e+08\n",
              "max       999.000000     999.000000  ...      7.833131e+07      9.029696e+08\n",
              "\n",
              "[8 rows x 49 columns]"
            ]
          },
          "metadata": {
            "tags": []
          },
          "execution_count": 116
        }
      ]
    },
    {
      "cell_type": "code",
      "metadata": {
        "id": "K-KUibn5-lQt",
        "colab_type": "code",
        "colab": {
          "base_uri": "https://localhost:8080/",
          "height": 874
        },
        "outputId": "c0022690-bdd3-4e68-f08e-d7d79b27fa41"
      },
      "source": [
        "df.isnull().sum()[5:]"
      ],
      "execution_count": 117,
      "outputs": [
        {
          "output_type": "execute_result",
          "data": {
            "text/plain": [
              "Dur. (ms)                                        1\n",
              "IMSI                                           570\n",
              "MSISDN/Number                                 1066\n",
              "IMEI                                           572\n",
              "Last Location Name                            1153\n",
              "Avg RTT DL (ms)                              27829\n",
              "Avg RTT UL (ms)                              27812\n",
              "Avg Bearer TP DL (kbps)                          1\n",
              "Avg Bearer TP UL (kbps)                          1\n",
              "TCP DL Retrans. Vol (Bytes)                  88146\n",
              "TCP UL Retrans. Vol (Bytes)                  96649\n",
              "DL TP < 50 Kbps (%)                            754\n",
              "50 Kbps < DL TP < 250 Kbps (%)                 754\n",
              "250 Kbps < DL TP < 1 Mbps (%)                  754\n",
              "DL TP > 1 Mbps (%)                             754\n",
              "UL TP < 10 Kbps (%)                            792\n",
              "10 Kbps < UL TP < 50 Kbps (%)                  792\n",
              "50 Kbps < UL TP < 300 Kbps (%)                 792\n",
              "UL TP > 300 Kbps (%)                           792\n",
              "HTTP DL (Bytes)                              81474\n",
              "HTTP UL (Bytes)                              81810\n",
              "Activity Duration DL (ms)                        1\n",
              "Activity Duration UL (ms)                        1\n",
              "Dur. (ms).1                                      1\n",
              "Handset Manufacturer                           572\n",
              "Handset Type                                   572\n",
              "Nb of sec with 125000B < Vol DL              97538\n",
              "Nb of sec with 1250B < Vol UL < 6250B        92894\n",
              "Nb of sec with 31250B < Vol DL < 125000B     93586\n",
              "Nb of sec with 37500B < Vol UL              130254\n",
              "Nb of sec with 6250B < Vol DL < 31250B       88317\n",
              "Nb of sec with 6250B < Vol UL < 37500B      111843\n",
              "Nb of sec with Vol DL < 6250B                  755\n",
              "Nb of sec with Vol UL < 1250B                  793\n",
              "Social Media DL (Bytes)                          0\n",
              "Social Media UL (Bytes)                          0\n",
              "Google DL (Bytes)                                0\n",
              "Google UL (Bytes)                                0\n",
              "Email DL (Bytes)                                 0\n",
              "Email UL (Bytes)                                 0\n",
              "Youtube DL (Bytes)                               0\n",
              "Youtube UL (Bytes)                               0\n",
              "Netflix DL (Bytes)                               0\n",
              "Netflix UL (Bytes)                               0\n",
              "Gaming DL (Bytes)                                0\n",
              "Gaming UL (Bytes)                                0\n",
              "Other DL (Bytes)                                 0\n",
              "Other UL (Bytes)                                 0\n",
              "Total UL (Bytes)                                 1\n",
              "Total DL (Bytes)                                 1\n",
              "dtype: int64"
            ]
          },
          "metadata": {
            "tags": []
          },
          "execution_count": 117
        }
      ]
    },
    {
      "cell_type": "code",
      "metadata": {
        "id": "ughC2BBO-oyj",
        "colab_type": "code",
        "colab": {}
      },
      "source": [
        "###Drop missing values in MSISDN/Number column\n",
        "df = df.dropna(axis=0, subset=['MSISDN/Number'])"
      ],
      "execution_count": 118,
      "outputs": []
    },
    {
      "cell_type": "code",
      "metadata": {
        "id": "z0gaB4XV-tun",
        "colab_type": "code",
        "colab": {}
      },
      "source": [
        "num_cols = df._get_numeric_data().columns"
      ],
      "execution_count": 119,
      "outputs": []
    },
    {
      "cell_type": "code",
      "metadata": {
        "id": "rh1yWPUt-xGH",
        "colab_type": "code",
        "colab": {}
      },
      "source": [
        "from sklearn.impute import SimpleImputer"
      ],
      "execution_count": 120,
      "outputs": []
    },
    {
      "cell_type": "code",
      "metadata": {
        "id": "6agVEsXr-1Ce",
        "colab_type": "code",
        "colab": {}
      },
      "source": [
        "impute = SimpleImputer()"
      ],
      "execution_count": 121,
      "outputs": []
    },
    {
      "cell_type": "code",
      "metadata": {
        "id": "HFDwLBl1-3b3",
        "colab_type": "code",
        "colab": {}
      },
      "source": [
        "df[num_cols] = impute.fit_transform(df[num_cols])"
      ],
      "execution_count": 122,
      "outputs": []
    },
    {
      "cell_type": "code",
      "metadata": {
        "id": "Jp5IMbXe-59Z",
        "colab_type": "code",
        "colab": {}
      },
      "source": [
        "df['Last Location Name'] = df['Last Location Name'].fillna(df['Last Location Name'].mode()[0])"
      ],
      "execution_count": 123,
      "outputs": []
    },
    {
      "cell_type": "code",
      "metadata": {
        "id": "fjYbUXtl--0d",
        "colab_type": "code",
        "colab": {
          "base_uri": "https://localhost:8080/",
          "height": 34
        },
        "outputId": "01a481af-fc09-4468-cba8-93daefd5c76e"
      },
      "source": [
        "df.shape"
      ],
      "execution_count": 124,
      "outputs": [
        {
          "output_type": "execute_result",
          "data": {
            "text/plain": [
              "(148935, 55)"
            ]
          },
          "metadata": {
            "tags": []
          },
          "execution_count": 124
        }
      ]
    },
    {
      "cell_type": "markdown",
      "metadata": {
        "id": "K1w0KsiVBHzF",
        "colab_type": "text"
      },
      "source": [
        "Top 10 handset used"
      ]
    },
    {
      "cell_type": "code",
      "metadata": {
        "id": "Kuo73p8CBRwL",
        "colab_type": "code",
        "colab": {
          "base_uri": "https://localhost:8080/",
          "height": 202
        },
        "outputId": "2c195d04-6c0e-4daa-e36b-62ea555b7d26"
      },
      "source": [
        "df['Handset Type'].value_counts(ascending = False).head(10)"
      ],
      "execution_count": 125,
      "outputs": [
        {
          "output_type": "execute_result",
          "data": {
            "text/plain": [
              "Huawei B528S-23A                19727\n",
              "Apple iPhone 6S (A1688)          9413\n",
              "Apple iPhone 6 (A1586)           9012\n",
              "undefined                        8931\n",
              "Apple iPhone 7 (A1778)           6304\n",
              "Apple iPhone Se (A1723)          5176\n",
              "Apple iPhone 8 (A1905)           4985\n",
              "Apple iPhone Xr (A2105)          4562\n",
              "Samsung Galaxy S8 (Sm-G950F)     4480\n",
              "Apple iPhone X (A1901)           3810\n",
              "Name: Handset Type, dtype: int64"
            ]
          },
          "metadata": {
            "tags": []
          },
          "execution_count": 125
        }
      ]
    },
    {
      "cell_type": "markdown",
      "metadata": {
        "id": "2cLmb6sVCWDm",
        "colab_type": "text"
      },
      "source": [
        "Top 3 Handset Manufacturer"
      ]
    },
    {
      "cell_type": "code",
      "metadata": {
        "id": "Jog3KKdA_GO5",
        "colab_type": "code",
        "colab": {
          "base_uri": "https://localhost:8080/",
          "height": 84
        },
        "outputId": "60ca5308-50cc-4c4e-e2a8-4dee5ffd258f"
      },
      "source": [
        "df['Handset Manufacturer'].value_counts(ascending = False)[:3]"
      ],
      "execution_count": 126,
      "outputs": [
        {
          "output_type": "execute_result",
          "data": {
            "text/plain": [
              "Apple      59464\n",
              "Samsung    40579\n",
              "Huawei     34366\n",
              "Name: Handset Manufacturer, dtype: int64"
            ]
          },
          "metadata": {
            "tags": []
          },
          "execution_count": 126
        }
      ]
    },
    {
      "cell_type": "markdown",
      "metadata": {
        "id": "DrfajUhxD2B8",
        "colab_type": "text"
      },
      "source": [
        "Top 5 Handset per Handset Manufacturer"
      ]
    },
    {
      "cell_type": "code",
      "metadata": {
        "id": "jVys10LXEjnY",
        "colab_type": "code",
        "colab": {}
      },
      "source": [
        "keys = df['Handset Manufacturer'].value_counts(ascending = False)[:3].keys()"
      ],
      "execution_count": 127,
      "outputs": []
    },
    {
      "cell_type": "code",
      "metadata": {
        "id": "Jg5sqKagERg3",
        "colab_type": "code",
        "colab": {
          "base_uri": "https://localhost:8080/",
          "height": 420
        },
        "outputId": "8e58dd47-227b-4e96-9b17-311aa2e5a23a"
      },
      "source": [
        "for key in keys:\n",
        "  top_5 = df[df['Handset Manufacturer'] == key]['Handset Type'].value_counts()[:5]\n",
        "  print(f'Top 5 {key} handset and count: \\n{top_5}\\n')"
      ],
      "execution_count": 128,
      "outputs": [
        {
          "output_type": "stream",
          "text": [
            "Top 5 Apple handset and count: \n",
            "Apple iPhone 6S (A1688)    9413\n",
            "Apple iPhone 6 (A1586)     9012\n",
            "Apple iPhone 7 (A1778)     6304\n",
            "Apple iPhone Se (A1723)    5176\n",
            "Apple iPhone 8 (A1905)     4985\n",
            "Name: Handset Type, dtype: int64\n",
            "\n",
            "Top 5 Samsung handset and count: \n",
            "Samsung Galaxy S8 (Sm-G950F)    4480\n",
            "Samsung Galaxy A5 Sm-A520F      3708\n",
            "Samsung Galaxy J5 (Sm-J530)     3682\n",
            "Samsung Galaxy J3 (Sm-J330)     3464\n",
            "Samsung Galaxy S7 (Sm-G930X)    3176\n",
            "Name: Handset Type, dtype: int64\n",
            "\n",
            "Top 5 Huawei handset and count: \n",
            "Huawei B528S-23A                  19727\n",
            "Huawei E5180                       2074\n",
            "Huawei P20 Lite Huawei Nova 3E     2018\n",
            "Huawei P20                         1479\n",
            "Huawei Y6 2018                      997\n",
            "Name: Handset Type, dtype: int64\n",
            "\n"
          ],
          "name": "stdout"
        }
      ]
    },
    {
      "cell_type": "markdown",
      "metadata": {
        "id": "usz9mDKRHBwb",
        "colab_type": "text"
      },
      "source": [
        "from the analysis conducted, we can infer that most of the customers use the Apple brand while Huawei B528S-23A is the most used handset by customers. The marketing teams should target The Top Apple, Samsung handset and also the Huawei B528S-23A for ads and/or promotions."
      ]
    },
    {
      "cell_type": "markdown",
      "metadata": {
        "id": "qg7Y6pnkK6AX",
        "colab_type": "text"
      },
      "source": [
        "\n",
        "\n",
        "---\n",
        "\n",
        "\n",
        "\n",
        "---\n",
        "\n",
        "Aggregate per user number of xDR sessions,Session duration, total download (DL) and upload (UL) data, the total data volume (in Bytes) during this session for each application"
      ]
    },
    {
      "cell_type": "code",
      "metadata": {
        "id": "cYWrMyVZNInt",
        "colab_type": "code",
        "colab": {}
      },
      "source": [
        "#Total Ul+Dl\n",
        "df['TotalUl/Dl'] = df['Total DL (Bytes)'] + df['Total UL (Bytes)']\n",
        "df['Social'] = df['Social Media DL (Bytes)'] + df['Social Media UL (Bytes)']\n",
        "df['Google'] = df['Google DL (Bytes)'] + df['Google UL (Bytes)']\n",
        "df['Email'] = df['Email DL (Bytes)'] + df['Email UL (Bytes)']\n",
        "df['Youtube'] = df['Youtube DL (Bytes)'] + df['Youtube UL (Bytes)']\n",
        "df['Netflix'] = df['Netflix DL (Bytes)'] + df['Netflix UL (Bytes)']\n",
        "df['Gaming'] = df['Gaming DL (Bytes)'] + df['Gaming UL (Bytes)']\n",
        "df['Other'] = df['Other DL (Bytes)'] + df['Other UL (Bytes)']"
      ],
      "execution_count": 129,
      "outputs": []
    },
    {
      "cell_type": "code",
      "metadata": {
        "id": "hnG6IcNSCaV3",
        "colab_type": "code",
        "colab": {}
      },
      "source": [
        "df_agg = df.groupby('MSISDN/Number').agg({'Bearer Id':'count', 'Dur. (ms).1':'sum',\n",
        "                                 'TotalUl/Dl':'sum','Social':'sum','Google':'sum', 'Email':'sum','Youtube':'sum','Netflix':'sum',\n",
        "                                 'Gaming':'sum'})"
      ],
      "execution_count": 130,
      "outputs": []
    },
    {
      "cell_type": "code",
      "metadata": {
        "id": "KeMuLmd3N9oQ",
        "colab_type": "code",
        "colab": {
          "base_uri": "https://localhost:8080/",
          "height": 232
        },
        "outputId": "9cdbacb2-f8d4-4663-b810-66ad9a710ddc"
      },
      "source": [
        "df_agg.reset_index(inplace = True); df_agg.head()"
      ],
      "execution_count": 131,
      "outputs": [
        {
          "output_type": "execute_result",
          "data": {
            "text/html": [
              "<div>\n",
              "<style scoped>\n",
              "    .dataframe tbody tr th:only-of-type {\n",
              "        vertical-align: middle;\n",
              "    }\n",
              "\n",
              "    .dataframe tbody tr th {\n",
              "        vertical-align: top;\n",
              "    }\n",
              "\n",
              "    .dataframe thead th {\n",
              "        text-align: right;\n",
              "    }\n",
              "</style>\n",
              "<table border=\"1\" class=\"dataframe\">\n",
              "  <thead>\n",
              "    <tr style=\"text-align: right;\">\n",
              "      <th></th>\n",
              "      <th>MSISDN/Number</th>\n",
              "      <th>Bearer Id</th>\n",
              "      <th>Dur. (ms).1</th>\n",
              "      <th>TotalUl/Dl</th>\n",
              "      <th>Social</th>\n",
              "      <th>Google</th>\n",
              "      <th>Email</th>\n",
              "      <th>Youtube</th>\n",
              "      <th>Netflix</th>\n",
              "      <th>Gaming</th>\n",
              "    </tr>\n",
              "  </thead>\n",
              "  <tbody>\n",
              "    <tr>\n",
              "      <th>0</th>\n",
              "      <td>3.360100e+10</td>\n",
              "      <td>1</td>\n",
              "      <td>116720140.0</td>\n",
              "      <td>8.786906e+08</td>\n",
              "      <td>2232135.0</td>\n",
              "      <td>4389005.0</td>\n",
              "      <td>1331362.0</td>\n",
              "      <td>21624548.0</td>\n",
              "      <td>27180981.0</td>\n",
              "      <td>8.124587e+08</td>\n",
              "    </tr>\n",
              "    <tr>\n",
              "      <th>1</th>\n",
              "      <td>3.360100e+10</td>\n",
              "      <td>1</td>\n",
              "      <td>181230963.0</td>\n",
              "      <td>1.568596e+08</td>\n",
              "      <td>2660565.0</td>\n",
              "      <td>5334863.0</td>\n",
              "      <td>3307781.0</td>\n",
              "      <td>12432223.0</td>\n",
              "      <td>11221763.0</td>\n",
              "      <td>1.197501e+08</td>\n",
              "    </tr>\n",
              "    <tr>\n",
              "      <th>2</th>\n",
              "      <td>3.360100e+10</td>\n",
              "      <td>1</td>\n",
              "      <td>134969374.0</td>\n",
              "      <td>5.959665e+08</td>\n",
              "      <td>3195623.0</td>\n",
              "      <td>3443126.0</td>\n",
              "      <td>3205380.0</td>\n",
              "      <td>21333570.0</td>\n",
              "      <td>19353900.0</td>\n",
              "      <td>5.388277e+08</td>\n",
              "    </tr>\n",
              "    <tr>\n",
              "      <th>3</th>\n",
              "      <td>3.360101e+10</td>\n",
              "      <td>1</td>\n",
              "      <td>49878024.0</td>\n",
              "      <td>4.223207e+08</td>\n",
              "      <td>280294.0</td>\n",
              "      <td>9678493.0</td>\n",
              "      <td>2284670.0</td>\n",
              "      <td>6977321.0</td>\n",
              "      <td>1942092.0</td>\n",
              "      <td>3.911261e+08</td>\n",
              "    </tr>\n",
              "    <tr>\n",
              "      <th>4</th>\n",
              "      <td>3.360101e+10</td>\n",
              "      <td>2</td>\n",
              "      <td>37104453.0</td>\n",
              "      <td>1.457411e+09</td>\n",
              "      <td>2912542.0</td>\n",
              "      <td>18499616.0</td>\n",
              "      <td>3305469.0</td>\n",
              "      <td>41533002.0</td>\n",
              "      <td>49201724.0</td>\n",
              "      <td>1.314798e+09</td>\n",
              "    </tr>\n",
              "  </tbody>\n",
              "</table>\n",
              "</div>"
            ],
            "text/plain": [
              "   MSISDN/Number  Bearer Id  Dur. (ms).1  ...     Youtube     Netflix        Gaming\n",
              "0   3.360100e+10          1  116720140.0  ...  21624548.0  27180981.0  8.124587e+08\n",
              "1   3.360100e+10          1  181230963.0  ...  12432223.0  11221763.0  1.197501e+08\n",
              "2   3.360100e+10          1  134969374.0  ...  21333570.0  19353900.0  5.388277e+08\n",
              "3   3.360101e+10          1   49878024.0  ...   6977321.0   1942092.0  3.911261e+08\n",
              "4   3.360101e+10          2   37104453.0  ...  41533002.0  49201724.0  1.314798e+09\n",
              "\n",
              "[5 rows x 10 columns]"
            ]
          },
          "metadata": {
            "tags": []
          },
          "execution_count": 131
        }
      ]
    },
    {
      "cell_type": "code",
      "metadata": {
        "id": "5f7bXiThQJP0",
        "colab_type": "code",
        "colab": {}
      },
      "source": [
        ""
      ],
      "execution_count": 131,
      "outputs": []
    },
    {
      "cell_type": "markdown",
      "metadata": {
        "id": "Z1TPEv0wQPQe",
        "colab_type": "text"
      },
      "source": [
        "Non Graphical Univariate Analysis of important features"
      ]
    },
    {
      "cell_type": "code",
      "metadata": {
        "id": "aAiDMi99OEzu",
        "colab_type": "code",
        "colab": {
          "base_uri": "https://localhost:8080/",
          "height": 304
        },
        "outputId": "ac7aa096-b7fc-4d19-d53b-8c577ef8176d"
      },
      "source": [
        "df[['TotalUl/Dl', 'Social','Dur. (ms).1',\n",
        "      'Google', 'Email', 'Youtube', 'Netflix', 'Gaming', 'Other']].describe()"
      ],
      "execution_count": 132,
      "outputs": [
        {
          "output_type": "execute_result",
          "data": {
            "text/html": [
              "<div>\n",
              "<style scoped>\n",
              "    .dataframe tbody tr th:only-of-type {\n",
              "        vertical-align: middle;\n",
              "    }\n",
              "\n",
              "    .dataframe tbody tr th {\n",
              "        vertical-align: top;\n",
              "    }\n",
              "\n",
              "    .dataframe thead th {\n",
              "        text-align: right;\n",
              "    }\n",
              "</style>\n",
              "<table border=\"1\" class=\"dataframe\">\n",
              "  <thead>\n",
              "    <tr style=\"text-align: right;\">\n",
              "      <th></th>\n",
              "      <th>TotalUl/Dl</th>\n",
              "      <th>Social</th>\n",
              "      <th>Dur. (ms).1</th>\n",
              "      <th>Google</th>\n",
              "      <th>Email</th>\n",
              "      <th>Youtube</th>\n",
              "      <th>Netflix</th>\n",
              "      <th>Gaming</th>\n",
              "      <th>Other</th>\n",
              "    </tr>\n",
              "  </thead>\n",
              "  <tbody>\n",
              "    <tr>\n",
              "      <th>count</th>\n",
              "      <td>1.489350e+05</td>\n",
              "      <td>1.489350e+05</td>\n",
              "      <td>1.489350e+05</td>\n",
              "      <td>1.489350e+05</td>\n",
              "      <td>1.489350e+05</td>\n",
              "      <td>1.489350e+05</td>\n",
              "      <td>1.489350e+05</td>\n",
              "      <td>1.489350e+05</td>\n",
              "      <td>1.489350e+05</td>\n",
              "    </tr>\n",
              "    <tr>\n",
              "      <th>mean</th>\n",
              "      <td>4.957428e+08</td>\n",
              "      <td>1.828083e+06</td>\n",
              "      <td>1.048707e+08</td>\n",
              "      <td>7.807791e+06</td>\n",
              "      <td>2.259158e+06</td>\n",
              "      <td>2.264212e+07</td>\n",
              "      <td>2.262772e+07</td>\n",
              "      <td>4.303147e+08</td>\n",
              "      <td>4.294105e+08</td>\n",
              "    </tr>\n",
              "    <tr>\n",
              "      <th>std</th>\n",
              "      <td>2.443876e+08</td>\n",
              "      <td>1.035623e+06</td>\n",
              "      <td>8.106342e+07</td>\n",
              "      <td>3.517034e+06</td>\n",
              "      <td>1.071113e+06</td>\n",
              "      <td>9.247278e+06</td>\n",
              "      <td>9.260256e+06</td>\n",
              "      <td>2.440281e+08</td>\n",
              "      <td>2.432608e+08</td>\n",
              "    </tr>\n",
              "    <tr>\n",
              "      <th>min</th>\n",
              "      <td>2.895611e+07</td>\n",
              "      <td>1.563000e+03</td>\n",
              "      <td>7.142988e+06</td>\n",
              "      <td>4.033000e+04</td>\n",
              "      <td>8.359000e+03</td>\n",
              "      <td>7.890300e+04</td>\n",
              "      <td>9.843200e+04</td>\n",
              "      <td>3.063580e+05</td>\n",
              "      <td>1.490450e+05</td>\n",
              "    </tr>\n",
              "    <tr>\n",
              "      <th>25%</th>\n",
              "      <td>2.844641e+08</td>\n",
              "      <td>9.321130e+05</td>\n",
              "      <td>5.788424e+07</td>\n",
              "      <td>4.944102e+06</td>\n",
              "      <td>1.359338e+06</td>\n",
              "      <td>1.599374e+07</td>\n",
              "      <td>1.597990e+07</td>\n",
              "      <td>2.187082e+08</td>\n",
              "      <td>2.185946e+08</td>\n",
              "    </tr>\n",
              "    <tr>\n",
              "      <th>50%</th>\n",
              "      <td>4.968460e+08</td>\n",
              "      <td>1.825624e+06</td>\n",
              "      <td>8.639998e+07</td>\n",
              "      <td>7.814744e+06</td>\n",
              "      <td>2.263969e+06</td>\n",
              "      <td>2.266270e+07</td>\n",
              "      <td>2.263279e+07</td>\n",
              "      <td>4.315884e+08</td>\n",
              "      <td>4.300767e+08</td>\n",
              "    </tr>\n",
              "    <tr>\n",
              "      <th>75%</th>\n",
              "      <td>7.064483e+08</td>\n",
              "      <td>2.727491e+06</td>\n",
              "      <td>1.327006e+08</td>\n",
              "      <td>1.068314e+07</td>\n",
              "      <td>3.160011e+06</td>\n",
              "      <td>2.929524e+07</td>\n",
              "      <td>2.928762e+07</td>\n",
              "      <td>6.414080e+08</td>\n",
              "      <td>6.399145e+08</td>\n",
              "    </tr>\n",
              "    <tr>\n",
              "      <th>max</th>\n",
              "      <td>9.559848e+08</td>\n",
              "      <td>3.650861e+06</td>\n",
              "      <td>1.859336e+09</td>\n",
              "      <td>1.552878e+07</td>\n",
              "      <td>4.518036e+06</td>\n",
              "      <td>4.519008e+07</td>\n",
              "      <td>4.519815e+07</td>\n",
              "      <td>8.592028e+08</td>\n",
              "      <td>8.595209e+08</td>\n",
              "    </tr>\n",
              "  </tbody>\n",
              "</table>\n",
              "</div>"
            ],
            "text/plain": [
              "         TotalUl/Dl        Social  ...        Gaming         Other\n",
              "count  1.489350e+05  1.489350e+05  ...  1.489350e+05  1.489350e+05\n",
              "mean   4.957428e+08  1.828083e+06  ...  4.303147e+08  4.294105e+08\n",
              "std    2.443876e+08  1.035623e+06  ...  2.440281e+08  2.432608e+08\n",
              "min    2.895611e+07  1.563000e+03  ...  3.063580e+05  1.490450e+05\n",
              "25%    2.844641e+08  9.321130e+05  ...  2.187082e+08  2.185946e+08\n",
              "50%    4.968460e+08  1.825624e+06  ...  4.315884e+08  4.300767e+08\n",
              "75%    7.064483e+08  2.727491e+06  ...  6.414080e+08  6.399145e+08\n",
              "max    9.559848e+08  3.650861e+06  ...  8.592028e+08  8.595209e+08\n",
              "\n",
              "[8 rows x 9 columns]"
            ]
          },
          "metadata": {
            "tags": []
          },
          "execution_count": 132
        }
      ]
    },
    {
      "cell_type": "markdown",
      "metadata": {
        "id": "v5vlgYFcQ46G",
        "colab_type": "text"
      },
      "source": [
        "Averagely customers use about 4.957428 bytes per session ....\n"
      ]
    },
    {
      "cell_type": "markdown",
      "metadata": {
        "id": "uMhqcKSScYje",
        "colab_type": "text"
      },
      "source": [
        "Conduct graphical univariate analysis"
      ]
    },
    {
      "cell_type": "code",
      "metadata": {
        "id": "DdYCCcNkblcJ",
        "colab_type": "code",
        "colab": {}
      },
      "source": [
        "columns = ['TotalUl/Dl', 'Social','Dur. (ms).1',\n",
        "      'Google', 'Email', 'Youtube', 'Netflix', 'Gaming', 'Other']"
      ],
      "execution_count": 133,
      "outputs": []
    },
    {
      "cell_type": "code",
      "metadata": {
        "id": "dRwiEHiYcu2S",
        "colab_type": "code",
        "colab": {
          "base_uri": "https://localhost:8080/",
          "height": 1000
        },
        "outputId": "8a09de41-34d7-4d51-a261-d3d0aa6b8725"
      },
      "source": [
        "for cols in columns:\n",
        "  sns.distplot(df[cols], kde = False)\n",
        "  plt.show()"
      ],
      "execution_count": 134,
      "outputs": [
        {
          "output_type": "display_data",
          "data": {
            "image/png": "[encoded data removed]",
            "text/plain": [
              "<Figure size 432x288 with 1 Axes>"
            ]
          },
          "metadata": {
            "tags": [],
            "needs_background": "light"
          }
        },
        {
          "output_type": "display_data",
          "data": {
            "image/png": "[encoded data removed]",
            "text/plain": [
              "<Figure size 432x288 with 1 Axes>"
            ]
          },
          "metadata": {
            "tags": [],
            "needs_background": "light"
          }
        },
        {
          "output_type": "display_data",
          "data": {
            "image/png": "[encoded data removed]",
            "text/plain": [
              "<Figure size 432x288 with 1 Axes>"
            ]
          },
          "metadata": {
            "tags": [],
            "needs_background": "light"
          }
        },
        {
          "output_type": "display_data",
          "data": {
            "image/png": "[encoded data removed]",
            "text/plain": [
              "<Figure size 432x288 with 1 Axes>"
            ]
          },
          "metadata": {
            "tags": [],
            "needs_background": "light"
          }
        },
        {
          "output_type": "display_data",
          "data": {
            "image/png": "[encoded data removed]",
            "text/plain": [
              "<Figure size 432x288 with 1 Axes>"
            ]
          },
          "metadata": {
            "tags": [],
            "needs_background": "light"
          }
        },
        {
          "output_type": "display_data",
          "data": {
            "image/png": "[encoded data removed]",
            "text/plain": [
              "<Figure size 432x288 with 1 Axes>"
            ]
          },
          "metadata": {
            "tags": [],
            "needs_background": "light"
          }
        },
        {
          "output_type": "display_data",
          "data": {
            "image/png": "[encoded data removed]",
            "text/plain": [
              "<Figure size 432x288 with 1 Axes>"
            ]
          },
          "metadata": {
            "tags": [],
            "needs_background": "light"
          }
        },
        {
          "output_type": "display_data",
          "data": {
            "image/png": "[encoded data removed]",
            "text/plain": [
              "<Figure size 432x288 with 1 Axes>"
            ]
          },
          "metadata": {
            "tags": [],
            "needs_background": "light"
          }
        },
        {
          "output_type": "display_data",
          "data": {
            "image/png": "[encoded data removed]",
            "text/plain": [
              "<Figure size 432x288 with 1 Axes>"
            ]
          },
          "metadata": {
            "tags": [],
            "needs_background": "light"
          }
        }
      ]
    },
    {
      "cell_type": "markdown",
      "metadata": {
        "id": "jH6iVF4zbffF",
        "colab_type": "text"
      },
      "source": [
        "Graphical Bivariate analysis between total Ul/Dl and the applications"
      ]
    },
    {
      "cell_type": "code",
      "metadata": {
        "id": "FdAirbC0QuUW",
        "colab_type": "code",
        "colab": {
          "base_uri": "https://localhost:8080/",
          "height": 212
        },
        "outputId": "d6b14ea6-573c-4524-f63e-26f435985782"
      },
      "source": [
        "for cols in columns[1:]:\n",
        "  sns.scatter(df['TotalUl/Dl'], df[cols])\n",
        "  plt.title(f'relationship between Total Ul/Dl and {cols}')\n",
        "  plt.show();"
      ],
      "execution_count": 135,
      "outputs": [
        {
          "output_type": "error",
          "ename": "AttributeError",
          "evalue": "ignored",
          "traceback": [
            "\u001b[0;31m---------------------------------------------------------------------------\u001b[0m",
            "\u001b[0;31mAttributeError\u001b[0m                            Traceback (most recent call last)",
            "\u001b[0;32m<ipython-input-135-acc958cdb8e1>\u001b[0m in \u001b[0;36m<module>\u001b[0;34m()\u001b[0m\n\u001b[1;32m      1\u001b[0m \u001b[0;32mfor\u001b[0m \u001b[0mcols\u001b[0m \u001b[0;32min\u001b[0m \u001b[0mcolumns\u001b[0m\u001b[0;34m[\u001b[0m\u001b[0;36m1\u001b[0m\u001b[0;34m:\u001b[0m\u001b[0;34m]\u001b[0m\u001b[0;34m:\u001b[0m\u001b[0;34m\u001b[0m\u001b[0;34m\u001b[0m\u001b[0m\n\u001b[0;32m----> 2\u001b[0;31m   \u001b[0msns\u001b[0m\u001b[0;34m.\u001b[0m\u001b[0mscatter\u001b[0m\u001b[0;34m(\u001b[0m\u001b[0mdf\u001b[0m\u001b[0;34m[\u001b[0m\u001b[0;34m'TotalUl/Dl'\u001b[0m\u001b[0;34m]\u001b[0m\u001b[0;34m,\u001b[0m \u001b[0mdf\u001b[0m\u001b[0;34m[\u001b[0m\u001b[0mcols\u001b[0m\u001b[0;34m]\u001b[0m\u001b[0;34m)\u001b[0m\u001b[0;34m\u001b[0m\u001b[0;34m\u001b[0m\u001b[0m\n\u001b[0m\u001b[1;32m      3\u001b[0m   \u001b[0mplt\u001b[0m\u001b[0;34m.\u001b[0m\u001b[0mtitle\u001b[0m\u001b[0;34m(\u001b[0m\u001b[0;34mf'relationship between Total Ul/Dl and {cols}'\u001b[0m\u001b[0;34m)\u001b[0m\u001b[0;34m\u001b[0m\u001b[0;34m\u001b[0m\u001b[0m\n\u001b[1;32m      4\u001b[0m   \u001b[0mplt\u001b[0m\u001b[0;34m.\u001b[0m\u001b[0mshow\u001b[0m\u001b[0;34m(\u001b[0m\u001b[0;34m)\u001b[0m\u001b[0;34m;\u001b[0m\u001b[0;34m\u001b[0m\u001b[0;34m\u001b[0m\u001b[0m\n",
            "\u001b[0;31mAttributeError\u001b[0m: module 'seaborn' has no attribute 'scatter'"
          ]
        }
      ]
    },
    {
      "cell_type": "markdown",
      "metadata": {
        "id": "JGHpp26rQ4R3",
        "colab_type": "text"
      },
      "source": [
        "There is a positive linear relationship between Total Ul/Dl and gGaming which is almost perfect"
      ]
    },
    {
      "cell_type": "markdown",
      "metadata": {
        "id": "cn-Xa-2mpSLy",
        "colab_type": "text"
      },
      "source": [
        "segment the users into top five decile classes\n",
        "based on the total duration for all sessions and compute the total data\n",
        "(DL+UL) per decile class"
      ]
    },
    {
      "cell_type": "code",
      "metadata": {
        "id": "SA8Kjhv3ggoX",
        "colab_type": "code",
        "colab": {}
      },
      "source": [
        "decile1 = df_agg[['MSISDN/Number', 'Dur. (ms).1', 'TotalUl/Dl']]"
      ],
      "execution_count": null,
      "outputs": []
    },
    {
      "cell_type": "code",
      "metadata": {
        "id": "nqmxVSu1jzXa",
        "colab_type": "code",
        "colab": {}
      },
      "source": [
        "decile1 = decile1.sort_values(by = 'Dur. (ms).1', ascending = False, ignore_index= True)"
      ],
      "execution_count": null,
      "outputs": []
    },
    {
      "cell_type": "code",
      "metadata": {
        "id": "XsSPIoizkgBO",
        "colab_type": "code",
        "colab": {}
      },
      "source": [
        "decile1['decile'] = pd.qcut(decile1['Dur. (ms).1'], 10, labels = False)"
      ],
      "execution_count": null,
      "outputs": []
    },
    {
      "cell_type": "code",
      "metadata": {
        "id": "y5IbOc0fkxSW",
        "colab_type": "code",
        "colab": {}
      },
      "source": [
        "decile1 = decile1[decile1.decile >4]"
      ],
      "execution_count": null,
      "outputs": []
    },
    {
      "cell_type": "code",
      "metadata": {
        "id": "d_wyn2vmu7mc",
        "colab_type": "code",
        "colab": {}
      },
      "source": [
        "decile1.groupby('decile')['TotalUl/Dl'].sum()"
      ],
      "execution_count": null,
      "outputs": []
    },
    {
      "cell_type": "code",
      "metadata": {
        "id": "BTvGWAKyxmR5",
        "colab_type": "code",
        "colab": {}
      },
      "source": [
        "dec1 = decile1.groupby('decile')['TotalUl/Dl'].sum().reset_index()"
      ],
      "execution_count": null,
      "outputs": []
    },
    {
      "cell_type": "code",
      "metadata": {
        "id": "uyMwLoBxxz08",
        "colab_type": "code",
        "colab": {}
      },
      "source": [
        "dec1"
      ],
      "execution_count": null,
      "outputs": []
    },
    {
      "cell_type": "code",
      "metadata": {
        "id": "b1FqR_kxwqfJ",
        "colab_type": "code",
        "colab": {}
      },
      "source": [
        "sns.barplot(dec1.decile, dec1['TotalUl/Dl'])\n",
        "plt.title('Top 5 decile Classes based on Total Upload and Download');"
      ],
      "execution_count": null,
      "outputs": []
    },
    {
      "cell_type": "markdown",
      "metadata": {
        "id": "gcoKoZca1G0T",
        "colab_type": "text"
      },
      "source": [
        "Correlation Analysis"
      ]
    },
    {
      "cell_type": "code",
      "metadata": {
        "id": "foxH5UeQxOpQ",
        "colab_type": "code",
        "colab": {}
      },
      "source": [
        "corr1 = df[['TotalUl/Dl', 'Social','Dur. (ms).1',\n",
        "      'Google', 'Email', 'Youtube', 'Netflix', 'Gaming', 'Other']]"
      ],
      "execution_count": null,
      "outputs": []
    },
    {
      "cell_type": "code",
      "metadata": {
        "id": "cehvntEz1ilt",
        "colab_type": "code",
        "colab": {}
      },
      "source": [
        "plt.figure(figsize = (12,12))\n",
        "sns.heatmap(corr1.corr(), annot= True, cmap = 'inferno', linewidth = 2 );"
      ],
      "execution_count": null,
      "outputs": []
    },
    {
      "cell_type": "markdown",
      "metadata": {
        "id": "w4KdFq4w1z1-",
        "colab_type": "text"
      },
      "source": [
        "There is a perfect positive relationship between Gaming and Total Upload and Download. all other correlations are negligible as they're very close to zero"
      ]
    },
    {
      "cell_type": "markdown",
      "metadata": {
        "id": "aA7RYjNi4IXF",
        "colab_type": "text"
      },
      "source": [
        "---\n",
        "\n",
        "Dimensionality Reduction – perform a principal component analysis to reduce the dimensions of your data and provide a useful interpretation of\n",
        "the results."
      ]
    },
    {
      "cell_type": "code",
      "metadata": {
        "id": "eYQSnag11lTk",
        "colab_type": "code",
        "colab": {}
      },
      "source": [
        "from sklearn.decomposition import PCA\n",
        "from sklearn.preprocessing import StandardScaler, PowerTransformer"
      ],
      "execution_count": null,
      "outputs": []
    },
    {
      "cell_type": "code",
      "metadata": {
        "id": "gupMpO-64irs",
        "colab_type": "code",
        "colab": {}
      },
      "source": [
        "#Drop newly created columns that may have high correlation with existing one\n",
        "df_2 = df.drop(['TotalUl/Dl', 'Social',\n",
        "       'Google', 'Email', 'Youtube', 'Netflix', 'Gaming', 'Other'], axis =1)"
      ],
      "execution_count": null,
      "outputs": []
    },
    {
      "cell_type": "code",
      "metadata": {
        "id": "qGDZKhGv_v1j",
        "colab_type": "code",
        "colab": {}
      },
      "source": [
        "num_cols = df_2._get_numeric_data().columns"
      ],
      "execution_count": null,
      "outputs": []
    },
    {
      "cell_type": "code",
      "metadata": {
        "id": "qAf3Z0gy_1fi",
        "colab_type": "code",
        "colab": {}
      },
      "source": [
        "#Standardize and normalize data\n",
        "P = PowerTransformer()\n",
        "scaled_df = P.fit_transform(df_2[num_cols])\n",
        "df2 = pd.DataFrame(scaled_df, columns=[num_cols])"
      ],
      "execution_count": null,
      "outputs": []
    },
    {
      "cell_type": "code",
      "metadata": {
        "id": "TKHZprveBphm",
        "colab_type": "code",
        "colab": {}
      },
      "source": [
        "pca = PCA().fit(df2)\n",
        "plt.plot(np.cumsum(pca.explained_variance_ratio_))\n",
        "plt.xlabel('‘number of components’')\n",
        "plt.ylabel('‘cumulative explained variance’')"
      ],
      "execution_count": null,
      "outputs": []
    },
    {
      "cell_type": "markdown",
      "metadata": {
        "id": "geyUwY10FOnf",
        "colab_type": "text"
      },
      "source": [
        "around 90% of the variability is explained by approximately 25 components"
      ]
    },
    {
      "cell_type": "code",
      "metadata": {
        "id": "0LoXjm8PFKNH",
        "colab_type": "code",
        "colab": {}
      },
      "source": [
        "pca = PCA(n_components = 25)\n",
        "scaled_df = pca.fit_transform(df_2[num_cols])"
      ],
      "execution_count": null,
      "outputs": []
    },
    {
      "cell_type": "code",
      "metadata": {
        "id": "H20xw_npDSoG",
        "colab_type": "code",
        "colab": {}
      },
      "source": [
        "pca.components_"
      ],
      "execution_count": null,
      "outputs": []
    },
    {
      "cell_type": "code",
      "metadata": {
        "id": "SYD4Hh8TGIse",
        "colab_type": "code",
        "colab": {}
      },
      "source": [
        "df2 = pd.DataFrame(pca.components_ , columns=[num_cols]); df2.head()"
      ],
      "execution_count": null,
      "outputs": []
    },
    {
      "cell_type": "markdown",
      "metadata": {
        "id": "gVZT4ZtXH8wp",
        "colab_type": "text"
      },
      "source": [
        "***Interprete"
      ]
    },
    {
      "cell_type": "code",
      "metadata": {
        "id": "E7rzBtMPGfMC",
        "colab_type": "code",
        "colab": {}
      },
      "source": [
        "##Probably more EDA"
      ],
      "execution_count": null,
      "outputs": []
    },
    {
      "cell_type": "markdown",
      "metadata": {
        "id": "jvOc-69-OTsp",
        "colab_type": "text"
      },
      "source": [
        "# User Engagement Analysis"
      ]
    },
    {
      "cell_type": "markdown",
      "metadata": {
        "id": "ORDAvPrxOhS3",
        "colab_type": "text"
      },
      "source": [
        "Aggregate the metrics per customer id (MSISDN) and report the top 10\n",
        "customers per engagement metric"
      ]
    },
    {
      "cell_type": "code",
      "metadata": {
        "id": "9R0uy5rON6fz",
        "colab_type": "code",
        "colab": {}
      },
      "source": [
        "v =df.groupby(\"MSISDN/Number\").agg({\"Bearer Id\": \"count\", 'Dur. (ms).1':'sum', 'TotalUl/Dl':'sum'})\n",
        "df_task2 = pd.DataFrame(v) ; df_task2.reset_index(inplace=True)"
      ],
      "execution_count": 140,
      "outputs": []
    },
    {
      "cell_type": "code",
      "metadata": {
        "id": "eIXNFrk-PAyg",
        "colab_type": "code",
        "colab": {
          "base_uri": "https://localhost:8080/",
          "height": 195
        },
        "outputId": "042cc8e4-3b72-48d6-dcbc-103b2e0213b9"
      },
      "source": [
        "df_task2.head()"
      ],
      "execution_count": 141,
      "outputs": [
        {
          "output_type": "execute_result",
          "data": {
            "text/html": [
              "<div>\n",
              "<style scoped>\n",
              "    .dataframe tbody tr th:only-of-type {\n",
              "        vertical-align: middle;\n",
              "    }\n",
              "\n",
              "    .dataframe tbody tr th {\n",
              "        vertical-align: top;\n",
              "    }\n",
              "\n",
              "    .dataframe thead th {\n",
              "        text-align: right;\n",
              "    }\n",
              "</style>\n",
              "<table border=\"1\" class=\"dataframe\">\n",
              "  <thead>\n",
              "    <tr style=\"text-align: right;\">\n",
              "      <th></th>\n",
              "      <th>MSISDN/Number</th>\n",
              "      <th>Bearer Id</th>\n",
              "      <th>Dur. (ms).1</th>\n",
              "      <th>TotalUl/Dl</th>\n",
              "    </tr>\n",
              "  </thead>\n",
              "  <tbody>\n",
              "    <tr>\n",
              "      <th>0</th>\n",
              "      <td>3.360100e+10</td>\n",
              "      <td>1</td>\n",
              "      <td>116720140.0</td>\n",
              "      <td>8.786906e+08</td>\n",
              "    </tr>\n",
              "    <tr>\n",
              "      <th>1</th>\n",
              "      <td>3.360100e+10</td>\n",
              "      <td>1</td>\n",
              "      <td>181230963.0</td>\n",
              "      <td>1.568596e+08</td>\n",
              "    </tr>\n",
              "    <tr>\n",
              "      <th>2</th>\n",
              "      <td>3.360100e+10</td>\n",
              "      <td>1</td>\n",
              "      <td>134969374.0</td>\n",
              "      <td>5.959665e+08</td>\n",
              "    </tr>\n",
              "    <tr>\n",
              "      <th>3</th>\n",
              "      <td>3.360101e+10</td>\n",
              "      <td>1</td>\n",
              "      <td>49878024.0</td>\n",
              "      <td>4.223207e+08</td>\n",
              "    </tr>\n",
              "    <tr>\n",
              "      <th>4</th>\n",
              "      <td>3.360101e+10</td>\n",
              "      <td>2</td>\n",
              "      <td>37104453.0</td>\n",
              "      <td>1.457411e+09</td>\n",
              "    </tr>\n",
              "  </tbody>\n",
              "</table>\n",
              "</div>"
            ],
            "text/plain": [
              "   MSISDN/Number  Bearer Id  Dur. (ms).1    TotalUl/Dl\n",
              "0   3.360100e+10          1  116720140.0  8.786906e+08\n",
              "1   3.360100e+10          1  181230963.0  1.568596e+08\n",
              "2   3.360100e+10          1  134969374.0  5.959665e+08\n",
              "3   3.360101e+10          1   49878024.0  4.223207e+08\n",
              "4   3.360101e+10          2   37104453.0  1.457411e+09"
            ]
          },
          "metadata": {
            "tags": []
          },
          "execution_count": 141
        }
      ]
    },
    {
      "cell_type": "code",
      "metadata": {
        "id": "l6kglOR2PTJR",
        "colab_type": "code",
        "colab": {
          "base_uri": "https://localhost:8080/",
          "height": 454
        },
        "outputId": "f5ed7c67-7cd7-447d-9aa7-9aa089e956ec"
      },
      "source": [
        "####Users with top 10 higest number of Sessions\n",
        "for cols in df_task2.columns[1:-1]:\n",
        "  tmp = df_task2.sort_values(by =cols, ascending= False).head(10)[['MSISDN/Number', cols]]\n",
        "  print(f'column: {cols} \\n {tmp}\\n')"
      ],
      "execution_count": 142,
      "outputs": [
        {
          "output_type": "stream",
          "text": [
            "column: Bearer Id \n",
            "        MSISDN/Number  Bearer Id\n",
            "13526   3.362632e+10         18\n",
            "13180   3.362578e+10         17\n",
            "6437    3.361489e+10         17\n",
            "37052   3.365973e+10         16\n",
            "92923   3.376054e+10         15\n",
            "76363   3.367588e+10         15\n",
            "65118   3.366716e+10         13\n",
            "13994   3.362708e+10         12\n",
            "1279    3.360452e+10         12\n",
            "92577   3.376041e+10         12\n",
            "\n",
            "column: Dur. (ms).1 \n",
            "        MSISDN/Number   Dur. (ms).1\n",
            "13180   3.362578e+10  1.855376e+10\n",
            "6437    3.361489e+10  9.966906e+09\n",
            "92923   3.376054e+10  9.279442e+09\n",
            "13526   3.362632e+10  8.791937e+09\n",
            "65118   3.366716e+10  8.744922e+09\n",
            "50281   3.366284e+10  6.614274e+09\n",
            "57160   3.366469e+10  6.288736e+09\n",
            "666     3.360313e+10  6.287767e+09\n",
            "66029   3.366746e+10  5.649885e+09\n",
            "92577   3.376041e+10  5.321674e+09\n",
            "\n"
          ],
          "name": "stdout"
        }
      ]
    },
    {
      "cell_type": "markdown",
      "metadata": {
        "id": "pFXmWOgyPf3l",
        "colab_type": "text"
      },
      "source": [
        "Normalize each engagement metric and run a k-means (k=3) to classify\n",
        "customers in three groups of engagement."
      ]
    },
    {
      "cell_type": "code",
      "metadata": {
        "id": "kvMUKAk-Paf0",
        "colab_type": "code",
        "colab": {}
      },
      "source": [
        "#Standardize and Normalize the data\n",
        "P = PowerTransformer()\n",
        "df_task2_scaled = P.fit_transform(df_task2)"
      ],
      "execution_count": 143,
      "outputs": []
    },
    {
      "cell_type": "code",
      "metadata": {
        "id": "wEZbOfbgPySj",
        "colab_type": "code",
        "colab": {}
      },
      "source": [
        "from sklearn.cluster import KMeans"
      ],
      "execution_count": 144,
      "outputs": []
    },
    {
      "cell_type": "code",
      "metadata": {
        "id": "QXREYxiXP3nQ",
        "colab_type": "code",
        "colab": {}
      },
      "source": [
        "kmeans_1 = KMeans(3, random_state=10)\n",
        "kmeans_1.fit(df_task2_scaled)\n",
        "df_task2['cluster'] = kmeans_1.labels_"
      ],
      "execution_count": 145,
      "outputs": []
    },
    {
      "cell_type": "markdown",
      "metadata": {
        "id": "SrseGiwHQVb7",
        "colab_type": "text"
      },
      "source": [
        "compute descriptives for clusters"
      ]
    },
    {
      "cell_type": "code",
      "metadata": {
        "id": "mdRq4pVHQN2n",
        "colab_type": "code",
        "colab": {
          "base_uri": "https://localhost:8080/",
          "height": 672
        },
        "outputId": "87e99be4-11a0-4598-a0bb-417f753ce243"
      },
      "source": [
        "for i in range(3):\n",
        "  print(f'cluster {i}:')\n",
        "  for cols in df_task2.columns[1:-1]:\n",
        "    min, max = df_task2[df_task2.cluster == i][cols].min(), df_task2[df_task2.cluster == i][cols].max()\n",
        "    avg, total = df_task2[df_task2.cluster == i][cols].mean(), df_task2[df_task2.cluster == i][cols].sum()\n",
        "    print(f'column: {cols}\\n min: {min} <-> max: {max} \\n average: {avg} <-> total: {total}\\n')"
      ],
      "execution_count": 147,
      "outputs": [
        {
          "output_type": "stream",
          "text": [
            "cluster 0:\n",
            "column: Bearer Id\n",
            " min: 1 <-> max: 1 \n",
            " average: 1.0 <-> total: 49792\n",
            "\n",
            "column: Dur. (ms).1\n",
            " min: 7142988.0 <-> max: 1375612670.0 \n",
            " average: 103388912.94569409 <-> total: 5147940753392.0\n",
            "\n",
            "column: TotalUl/Dl\n",
            " min: 378959304.0 <-> max: 950760661.0 \n",
            " average: 649145198.3079009 <-> total: 32322237714147.0\n",
            "\n",
            "cluster 1:\n",
            "column: Bearer Id\n",
            " min: 2 <-> max: 18 \n",
            " average: 2.446658851113716 <-> total: 70958\n",
            "\n",
            "column: Dur. (ms).1\n",
            " min: 18235797.0 <-> max: 18553763486.0 \n",
            " average: 260217588.17688435 <-> total: 7546830492306.0\n",
            "\n",
            "column: TotalUl/Dl\n",
            " min: 231115572.0 <-> max: 8846226494.0 \n",
            " average: 1212879592.282808 <-> total: 35175933935386.0\n",
            "\n",
            "cluster 2:\n",
            "column: Bearer Id\n",
            " min: 1 <-> max: 2 \n",
            " average: 1.0043831515929014 <-> total: 28185\n",
            "\n",
            "column: Dur. (ms).1\n",
            " min: 7189000.0 <-> max: 1573420996.0 \n",
            " average: 104203109.12326278 <-> total: 2924147648217.0\n",
            "\n",
            "column: TotalUl/Dl\n",
            " min: 33249009.0 <-> max: 378937238.0 \n",
            " average: 225759919.51820967 <-> total: 6335274861520.0\n",
            "\n"
          ],
          "name": "stdout"
        }
      ]
    },
    {
      "cell_type": "code",
      "metadata": {
        "id": "y0NQ-1RIQbNV",
        "colab_type": "code",
        "colab": {
          "base_uri": "https://localhost:8080/",
          "height": 295
        },
        "outputId": "89c22811-a451-44f9-b4af-ab3c9d58c913"
      },
      "source": [
        "sns.barplot(df_task2['cluster'], df_task2['TotalUl/Dl'])\n",
        "plt.title('Total Upload and Download by cluster');"
      ],
      "execution_count": 150,
      "outputs": [
        {
          "output_type": "display_data",
          "data": {
            "image/png": "[encoded data removed]",
            "text/plain": [
              "<Figure size 432x288 with 1 Axes>"
            ]
          },
          "metadata": {
            "tags": [],
            "needs_background": "light"
          }
        }
      ]
    },
    {
      "cell_type": "code",
      "metadata": {
        "id": "NcqK7F_kRUqz",
        "colab_type": "code",
        "colab": {
          "base_uri": "https://localhost:8080/",
          "height": 295
        },
        "outputId": "2c4b6993-77f9-4798-bc98-ffb30fbf6bc2"
      },
      "source": [
        "sns.barplot(df_task2['cluster'], df_task2['Dur. (ms).1'])\n",
        "plt.title('Total Session Duration by cluster');"
      ],
      "execution_count": 151,
      "outputs": [
        {
          "output_type": "display_data",
          "data": {
            "image/png": "[encoded data removed]",
            "text/plain": [
              "<Figure size 432x288 with 1 Axes>"
            ]
          },
          "metadata": {
            "tags": [],
            "needs_background": "light"
          }
        }
      ]
    },
    {
      "cell_type": "code",
      "metadata": {
        "id": "c0oD-EIRRciz",
        "colab_type": "code",
        "colab": {
          "base_uri": "https://localhost:8080/",
          "height": 295
        },
        "outputId": "52073326-3acb-4a28-8504-9e3ac1365b37"
      },
      "source": [
        "sns.barplot(df_task2['cluster'], df_task2['Bearer Id'])\n",
        "plt.title('Number of Sessions by cluster');"
      ],
      "execution_count": 152,
      "outputs": [
        {
          "output_type": "display_data",
          "data": {
            "image/png": "[encoded data removed]",
            "text/plain": [
              "<Figure size 432x288 with 1 Axes>"
            ]
          },
          "metadata": {
            "tags": [],
            "needs_background": "light"
          }
        }
      ]
    },
    {
      "cell_type": "markdown",
      "metadata": {
        "id": "CCd8GauZSlCs",
        "colab_type": "text"
      },
      "source": [
        "Aggregate user total traffic per application and derive the top 10 most engaged\n",
        "users per application"
      ]
    },
    {
      "cell_type": "code",
      "metadata": {
        "id": "Ow8U18MPR5ni",
        "colab_type": "code",
        "colab": {}
      },
      "source": [
        "agg = df.groupby('MSISDN/Number')['Social','Google', 'Email', 'Youtube', 'Netflix', 'Gaming'].sum()"
      ],
      "execution_count": 154,
      "outputs": []
    },
    {
      "cell_type": "code",
      "metadata": {
        "id": "hZLzRzIlTOCM",
        "colab_type": "code",
        "colab": {
          "base_uri": "https://localhost:8080/",
          "height": 215
        },
        "outputId": "ff0c33de-5f2b-4231-a289-83062fb24844"
      },
      "source": [
        "df_app_agg = pd.DataFrame(agg)\n",
        "df_app_agg.reset_index(inplace = True); df_app_agg.head()"
      ],
      "execution_count": 155,
      "outputs": [
        {
          "output_type": "execute_result",
          "data": {
            "text/html": [
              "<div>\n",
              "<style scoped>\n",
              "    .dataframe tbody tr th:only-of-type {\n",
              "        vertical-align: middle;\n",
              "    }\n",
              "\n",
              "    .dataframe tbody tr th {\n",
              "        vertical-align: top;\n",
              "    }\n",
              "\n",
              "    .dataframe thead th {\n",
              "        text-align: right;\n",
              "    }\n",
              "</style>\n",
              "<table border=\"1\" class=\"dataframe\">\n",
              "  <thead>\n",
              "    <tr style=\"text-align: right;\">\n",
              "      <th></th>\n",
              "      <th>MSISDN/Number</th>\n",
              "      <th>Social</th>\n",
              "      <th>Google</th>\n",
              "      <th>Email</th>\n",
              "      <th>Youtube</th>\n",
              "      <th>Netflix</th>\n",
              "      <th>Gaming</th>\n",
              "    </tr>\n",
              "  </thead>\n",
              "  <tbody>\n",
              "    <tr>\n",
              "      <th>0</th>\n",
              "      <td>3.360100e+10</td>\n",
              "      <td>2232135.0</td>\n",
              "      <td>4389005.0</td>\n",
              "      <td>1331362.0</td>\n",
              "      <td>21624548.0</td>\n",
              "      <td>27180981.0</td>\n",
              "      <td>8.124587e+08</td>\n",
              "    </tr>\n",
              "    <tr>\n",
              "      <th>1</th>\n",
              "      <td>3.360100e+10</td>\n",
              "      <td>2660565.0</td>\n",
              "      <td>5334863.0</td>\n",
              "      <td>3307781.0</td>\n",
              "      <td>12432223.0</td>\n",
              "      <td>11221763.0</td>\n",
              "      <td>1.197501e+08</td>\n",
              "    </tr>\n",
              "    <tr>\n",
              "      <th>2</th>\n",
              "      <td>3.360100e+10</td>\n",
              "      <td>3195623.0</td>\n",
              "      <td>3443126.0</td>\n",
              "      <td>3205380.0</td>\n",
              "      <td>21333570.0</td>\n",
              "      <td>19353900.0</td>\n",
              "      <td>5.388277e+08</td>\n",
              "    </tr>\n",
              "    <tr>\n",
              "      <th>3</th>\n",
              "      <td>3.360101e+10</td>\n",
              "      <td>280294.0</td>\n",
              "      <td>9678493.0</td>\n",
              "      <td>2284670.0</td>\n",
              "      <td>6977321.0</td>\n",
              "      <td>1942092.0</td>\n",
              "      <td>3.911261e+08</td>\n",
              "    </tr>\n",
              "    <tr>\n",
              "      <th>4</th>\n",
              "      <td>3.360101e+10</td>\n",
              "      <td>2912542.0</td>\n",
              "      <td>18499616.0</td>\n",
              "      <td>3305469.0</td>\n",
              "      <td>41533002.0</td>\n",
              "      <td>49201724.0</td>\n",
              "      <td>1.314798e+09</td>\n",
              "    </tr>\n",
              "  </tbody>\n",
              "</table>\n",
              "</div>"
            ],
            "text/plain": [
              "   MSISDN/Number     Social      Google  ...     Youtube     Netflix        Gaming\n",
              "0   3.360100e+10  2232135.0   4389005.0  ...  21624548.0  27180981.0  8.124587e+08\n",
              "1   3.360100e+10  2660565.0   5334863.0  ...  12432223.0  11221763.0  1.197501e+08\n",
              "2   3.360100e+10  3195623.0   3443126.0  ...  21333570.0  19353900.0  5.388277e+08\n",
              "3   3.360101e+10   280294.0   9678493.0  ...   6977321.0   1942092.0  3.911261e+08\n",
              "4   3.360101e+10  2912542.0  18499616.0  ...  41533002.0  49201724.0  1.314798e+09\n",
              "\n",
              "[5 rows x 7 columns]"
            ]
          },
          "metadata": {
            "tags": []
          },
          "execution_count": 155
        }
      ]
    },
    {
      "cell_type": "markdown",
      "metadata": {
        "id": "bh_ayX_cTX2G",
        "colab_type": "text"
      },
      "source": [
        "Most engaged users per application"
      ]
    },
    {
      "cell_type": "code",
      "metadata": {
        "id": "ZbV-APcbSMUa",
        "colab_type": "code",
        "colab": {
          "base_uri": "https://localhost:8080/",
          "height": 1000
        },
        "outputId": "5c35f372-dc19-4218-9d40-0ca319a229b6"
      },
      "source": [
        "## Top 10 Users with highest traffic per application\n",
        "for cols in df_app_agg.columns[1:]:\n",
        "  tmp = df_app_agg.sort_values(by =cols, ascending= False).head(10)[['MSISDN/Number', cols]]\n",
        "  print(f'column: {cols} \\n {tmp}\\n')"
      ],
      "execution_count": 160,
      "outputs": [
        {
          "output_type": "stream",
          "text": [
            "column: Social \n",
            "         MSISDN/Number      Social\n",
            "13526    3.362632e+10  43374779.0\n",
            "92923    3.376054e+10  39783189.0\n",
            "37052    3.365973e+10  35412358.0\n",
            "6437     3.361489e+10  28294544.0\n",
            "13180    3.362578e+10  27135500.0\n",
            "65118    3.366716e+10  24247850.0\n",
            "106137   3.378632e+10  23974919.0\n",
            "70960    3.366907e+10  23800834.0\n",
            "666      3.360313e+10  23077825.0\n",
            "31331    3.365849e+10  23000066.0\n",
            "\n",
            "column: Google \n",
            "         MSISDN/Number       Google\n",
            "13526    3.362632e+10  152191852.0\n",
            "13180    3.362578e+10  142307915.0\n",
            "6437     3.361489e+10  127973787.0\n",
            "92923    3.376054e+10  123223099.0\n",
            "37052    3.365973e+10  116516345.0\n",
            "106137   3.378632e+10  110254484.0\n",
            "76363    3.367588e+10  109860502.0\n",
            "65118    3.366716e+10  105032696.0\n",
            "94654    3.376127e+10   97089988.0\n",
            "86313    3.369876e+10   91935151.0\n",
            "\n",
            "column: Email \n",
            "         MSISDN/Number       Email\n",
            "13526    3.362632e+10  42418782.0\n",
            "6437     3.361489e+10  40788634.0\n",
            "13180    3.362578e+10  40633966.0\n",
            "106137   3.378632e+10  36310123.0\n",
            "37052    3.365973e+10  35999792.0\n",
            "92923    3.376054e+10  33693767.0\n",
            "76363    3.367588e+10  31514421.0\n",
            "60087    3.366546e+10  30417885.0\n",
            "65118    3.366716e+10  30335796.0\n",
            "86455    3.369879e+10  29059042.0\n",
            "\n",
            "column: Youtube \n",
            "        MSISDN/Number      Youtube\n",
            "13180   3.362578e+10  452958769.0\n",
            "92923   3.376054e+10  396289198.0\n",
            "6437    3.361489e+10  394370218.0\n",
            "13526   3.362632e+10  374483047.0\n",
            "76363   3.367588e+10  317410572.0\n",
            "65118   3.366716e+10  315231310.0\n",
            "13994   3.362708e+10  308790774.0\n",
            "92577   3.376041e+10  303169107.0\n",
            "86455   3.369879e+10  302661958.0\n",
            "666     3.360313e+10  284090139.0\n",
            "\n",
            "column: Netflix \n",
            "         MSISDN/Number      Netflix\n",
            "37052    3.365973e+10  399519079.0\n",
            "6437     3.361489e+10  361401046.0\n",
            "13180    3.362578e+10  356980607.0\n",
            "92923    3.376054e+10  334643269.0\n",
            "13526    3.362632e+10  328725740.0\n",
            "92577    3.376041e+10  318347546.0\n",
            "65118    3.366716e+10  313939488.0\n",
            "76363    3.367588e+10  309093159.0\n",
            "106137   3.378632e+10  305939790.0\n",
            "94654    3.376127e+10  292091341.0\n",
            "\n",
            "column: Gaming \n",
            "        MSISDN/Number        Gaming\n",
            "6437    3.361489e+10  7.749432e+09\n",
            "92923   3.376054e+10  7.461045e+09\n",
            "13180   3.362578e+10  7.326673e+09\n",
            "76363   3.367588e+10  6.970568e+09\n",
            "13526   3.362632e+10  6.887572e+09\n",
            "37052   3.365973e+10  6.725559e+09\n",
            "63028   3.366646e+10  6.646303e+09\n",
            "92577   3.376041e+10  6.268620e+09\n",
            "57241   3.366471e+10  6.103856e+09\n",
            "86455   3.369879e+10  5.753743e+09\n",
            "\n"
          ],
          "name": "stdout"
        }
      ]
    },
    {
      "cell_type": "code",
      "metadata": {
        "id": "X-WkO5V0Thga",
        "colab_type": "code",
        "colab": {
          "base_uri": "https://localhost:8080/",
          "height": 311
        },
        "outputId": "812c8075-abbe-4642-f594-6cdffdb2229d"
      },
      "source": [
        "df_app_agg[df_app_agg.columns[1:]].sum().sort_values(ascending = False).head(3).plot(kind = 'bar')\n",
        "plt.title(\"Top 3 Most Used Application\");"
      ],
      "execution_count": 161,
      "outputs": [
        {
          "output_type": "display_data",
          "data": {
            "image/png": "[encoded data removed]",
            "text/plain": [
              "<Figure size 432x288 with 1 Axes>"
            ]
          },
          "metadata": {
            "tags": [],
            "needs_background": "light"
          }
        }
      ]
    },
    {
      "cell_type": "markdown",
      "metadata": {
        "id": "KqULCYgxULek",
        "colab_type": "text"
      },
      "source": [
        "Obtain the optimized value for k (number of clusters)"
      ]
    },
    {
      "cell_type": "code",
      "metadata": {
        "id": "ldiAEx6mUC2F",
        "colab_type": "code",
        "colab": {}
      },
      "source": [
        "distortions = []\n",
        "K = range(1,11)\n",
        "for k in K:\n",
        "    kmeans = KMeans(n_clusters=k, random_state = 21, init= 'k-means++')\n",
        "    kmeans.fit(df_task2_scaled)\n",
        "    distortions.append(kmeans.inertia_)"
      ],
      "execution_count": 162,
      "outputs": []
    },
    {
      "cell_type": "code",
      "metadata": {
        "id": "7iZ6aiwuUTgT",
        "colab_type": "code",
        "colab": {
          "base_uri": "https://localhost:8080/",
          "height": 366
        },
        "outputId": "7763396d-85c5-4770-ab7c-ecb89a73b585"
      },
      "source": [
        "plt.figure(figsize=(16,8))\n",
        "plt.plot(K, distortions, 'bx-')\n",
        "plt.xlabel('k')\n",
        "plt.ylabel('Distortion')\n",
        "plt.title('The Elbow Method showing the optimal k');"
      ],
      "execution_count": 163,
      "outputs": [
        {
          "output_type": "execute_result",
          "data": {
            "text/plain": [
              "Text(0.5, 1.0, 'The Elbow Method showing the optimal k')"
            ]
          },
          "metadata": {
            "tags": []
          },
          "execution_count": 163
        },
        {
          "output_type": "display_data",
          "data": {
            "image/png": "[encoded data removed]",
            "text/plain": [
              "<Figure size 1152x576 with 1 Axes>"
            ]
          },
          "metadata": {
            "tags": [],
            "needs_background": "light"
          }
        }
      ]
    },
    {
      "cell_type": "markdown",
      "metadata": {
        "id": "nouzoBlUUWot",
        "colab_type": "text"
      },
      "source": [
        "The optimized value for k is 3"
      ]
    },
    {
      "cell_type": "markdown",
      "metadata": {
        "id": "bGc6TltrUnfL",
        "colab_type": "text"
      },
      "source": [
        "# Experience Analytics"
      ]
    },
    {
      "cell_type": "code",
      "metadata": {
        "id": "rYxsibv9UWD9",
        "colab_type": "code",
        "colab": {}
      },
      "source": [
        "df['RTT'] = df['Avg RTT DL (ms)'] + df['Avg RTT UL (ms)']\n",
        "df['TCP'] = df['TCP DL Retrans. Vol (Bytes)'] + df['TCP UL Retrans. Vol (Bytes)']\n",
        "df['TP'] = df['Avg Bearer TP DL (kbps)'] + df['Avg Bearer TP UL (kbps)']"
      ],
      "execution_count": 164,
      "outputs": []
    },
    {
      "cell_type": "code",
      "metadata": {
        "id": "mkArPcKhUunS",
        "colab_type": "code",
        "colab": {
          "base_uri": "https://localhost:8080/",
          "height": 118
        },
        "outputId": "9f57074e-7cc8-4141-b02e-f279f6b446af"
      },
      "source": [
        "df['Handset Type'].head()"
      ],
      "execution_count": 165,
      "outputs": [
        {
          "output_type": "execute_result",
          "data": {
            "text/plain": [
              "0     Samsung Galaxy A5 Sm-A520F\n",
              "1    Samsung Galaxy J5 (Sm-J530)\n",
              "2       Samsung Galaxy A8 (2018)\n",
              "3                      undefined\n",
              "4               Samsung Sm-G390F\n",
              "Name: Handset Type, dtype: object"
            ]
          },
          "metadata": {
            "tags": []
          },
          "execution_count": 165
        }
      ]
    },
    {
      "cell_type": "code",
      "metadata": {
        "id": "xLJN3Wq8Uw4A",
        "colab_type": "code",
        "colab": {}
      },
      "source": [
        "t2 = df.groupby('MSISDN/Number')['Handset Type'].unique()"
      ],
      "execution_count": 169,
      "outputs": []
    },
    {
      "cell_type": "code",
      "metadata": {
        "id": "0PZ3UgFGW_cJ",
        "colab_type": "code",
        "colab": {
          "base_uri": "https://localhost:8080/",
          "height": 235
        },
        "outputId": "f14bfae6-4acd-48af-ab0c-699b846c1fb7"
      },
      "source": [
        "t2.explode()"
      ],
      "execution_count": 170,
      "outputs": [
        {
          "output_type": "execute_result",
          "data": {
            "text/plain": [
              "MSISDN/Number\n",
              "3.360100e+10      Huawei P20 Lite Huawei Nova 3E\n",
              "3.360100e+10              Apple iPhone 7 (A1778)\n",
              "3.360100e+10                           undefined\n",
              "3.360101e+10             Apple iPhone 5S (A1457)\n",
              "3.360101e+10             Apple iPhone Se (A1723)\n",
              "                              ...               \n",
              "3.379000e+10                 Huawei Honor 9 Lite\n",
              "3.379000e+10         Apple iPhone 8 Plus (A1897)\n",
              "3.197021e+12    Quectel Wireless. Quectel Ec25-E\n",
              "3.370000e+14                    Huawei B525S-23A\n",
              "8.823971e+14    Quectel Wireless. Quectel Ec21-E\n",
              "Name: Handset Type, Length: 106862, dtype: object"
            ]
          },
          "metadata": {
            "tags": []
          },
          "execution_count": 170
        }
      ]
    },
    {
      "cell_type": "code",
      "metadata": {
        "id": "OKHJTxnPUz58",
        "colab_type": "code",
        "colab": {}
      },
      "source": [
        "ts3 = df.groupby('MSISDN/Number').agg({'RTT':'sum','TP':'sum','TCP':'sum','Handset Type':'count'})"
      ],
      "execution_count": 167,
      "outputs": []
    },
    {
      "cell_type": "code",
      "metadata": {
        "id": "yfk_G6GsU5v3",
        "colab_type": "code",
        "colab": {}
      },
      "source": [
        "df_exp = pd.DataFrame(ts3)\n",
        "df_exp.reset_index(inplace = True)"
      ],
      "execution_count": 171,
      "outputs": []
    },
    {
      "cell_type": "code",
      "metadata": {
        "id": "Ci4WZ034VSQZ",
        "colab_type": "code",
        "colab": {
          "base_uri": "https://localhost:8080/",
          "height": 1000
        },
        "outputId": "84f3e4a9-1fd0-4a0c-c414-20779b63ee0f"
      },
      "source": [
        "for cols in df_exp.columns[1:-1]:\n",
        "  top, bottom,mode = df_exp[cols].value_counts().head(10), df_exp[cols].value_counts().tail(10), df_exp[cols].mode()[0]\n",
        "  print(f'column: {cols} <-> most_freq: {mode}\\n Top:\\n {top}\\n Bottom:\\n {bottom} \\n')"
      ],
      "execution_count": 172,
      "outputs": [
        {
          "output_type": "stream",
          "text": [
            "column: RTT <-> most_freq: 125.86197568270961\n",
            " Top:\n",
            " 125.861976    16353\n",
            "29.000000      2736\n",
            "39.000000      2162\n",
            "251.723951     1908\n",
            "38.000000      1446\n",
            "30.000000      1419\n",
            "40.000000      1383\n",
            "28.000000      1330\n",
            "49.000000      1194\n",
            "31.000000      1053\n",
            "Name: RTT, dtype: int64\n",
            " Bottom:\n",
            " 511.585927     1\n",
            "689.447903     1\n",
            "955.000000     1\n",
            "2526.000000    1\n",
            "1877.000000    1\n",
            "1317.000000    1\n",
            "1784.000000    1\n",
            "1575.861976    1\n",
            "925.723951     1\n",
            "3220.000000    1\n",
            "Name: RTT, dtype: int64 \n",
            "\n",
            "column: TP <-> most_freq: 15.0\n",
            " Top:\n",
            " 15.0    2685\n",
            "63.0    2072\n",
            "97.0    1023\n",
            "90.0    1005\n",
            "98.0     971\n",
            "96.0     866\n",
            "99.0     853\n",
            "89.0     817\n",
            "95.0     798\n",
            "91.0     793\n",
            "Name: TP, dtype: int64\n",
            " Bottom:\n",
            " 18495.0     1\n",
            "8096.0      1\n",
            "125096.0    1\n",
            "48845.0     1\n",
            "90366.0     1\n",
            "54805.0     1\n",
            "16391.0     1\n",
            "61959.0     1\n",
            "32270.0     1\n",
            "16627.0     1\n",
            "Name: TP, dtype: int64 \n",
            "\n",
            "column: TCP <-> most_freq: 21650430.771230917\n",
            " Top:\n",
            " 2.165043e+07    47125\n",
            "4.330086e+07     7468\n",
            "6.495129e+07     1032\n",
            "2.088548e+07      363\n",
            "8.660172e+07      252\n",
            "2.088551e+07      167\n",
            "7.675775e+05      145\n",
            "4.253591e+07       82\n",
            "2.088550e+07       81\n",
            "7.689075e+05       78\n",
            "Name: TCP, dtype: int64\n",
            " Bottom:\n",
            " 2.191690e+07    1\n",
            "2.454985e+06    1\n",
            "2.191639e+07    1\n",
            "2.191618e+07    1\n",
            "2.191658e+07    1\n",
            "2.191664e+07    1\n",
            "2.013894e+06    1\n",
            "2.191653e+07    1\n",
            "8.758690e+05    1\n",
            "1.280000e+02    1\n",
            "Name: TCP, dtype: int64 \n",
            "\n"
          ],
          "name": "stdout"
        }
      ]
    },
    {
      "cell_type": "markdown",
      "metadata": {
        "id": "8Lz0gmvVZXfs",
        "colab_type": "text"
      },
      "source": [
        "The distribution of the average throughput per handset type and provide\n",
        "interpretation for your findings.\n",
        " The average TCP retransmission view per handset type and provide\n",
        "interpretation for your findings."
      ]
    },
    {
      "cell_type": "code",
      "metadata": {
        "id": "fdHA7xJ3XZ4X",
        "colab_type": "code",
        "colab": {
          "base_uri": "https://localhost:8080/",
          "height": 343
        },
        "outputId": "0e846bc1-27a7-4fc5-d4e3-d44d5dbd3fbc"
      },
      "source": [
        "df.groupby('Handset Type')['TCP'].mean().reset_index().sort_values(by = 'TCP',ascending = False)[:10]"
      ],
      "execution_count": 180,
      "outputs": [
        {
          "output_type": "execute_result",
          "data": {
            "text/html": [
              "<div>\n",
              "<style scoped>\n",
              "    .dataframe tbody tr th:only-of-type {\n",
              "        vertical-align: middle;\n",
              "    }\n",
              "\n",
              "    .dataframe tbody tr th {\n",
              "        vertical-align: top;\n",
              "    }\n",
              "\n",
              "    .dataframe thead th {\n",
              "        text-align: right;\n",
              "    }\n",
              "</style>\n",
              "<table border=\"1\" class=\"dataframe\">\n",
              "  <thead>\n",
              "    <tr style=\"text-align: right;\">\n",
              "      <th></th>\n",
              "      <th>Handset Type</th>\n",
              "      <th>TCP</th>\n",
              "    </tr>\n",
              "  </thead>\n",
              "  <tbody>\n",
              "    <tr>\n",
              "      <th>584</th>\n",
              "      <td>Lg Lg-H635</td>\n",
              "      <td>9.125804e+08</td>\n",
              "    </tr>\n",
              "    <tr>\n",
              "      <th>324</th>\n",
              "      <td>Huawei Bln-Al10</td>\n",
              "      <td>3.291746e+08</td>\n",
              "    </tr>\n",
              "    <tr>\n",
              "      <th>142</th>\n",
              "      <td>Asustek Asus Zenfone Selfie Zd551Kl</td>\n",
              "      <td>3.216583e+08</td>\n",
              "    </tr>\n",
              "    <tr>\n",
              "      <th>972</th>\n",
              "      <td>Samsung Galaxy Tab S3 (Sm-T825)</td>\n",
              "      <td>2.027976e+08</td>\n",
              "    </tr>\n",
              "    <tr>\n",
              "      <th>345</th>\n",
              "      <td>Huawei E5776S-32</td>\n",
              "      <td>1.688455e+08</td>\n",
              "    </tr>\n",
              "    <tr>\n",
              "      <th>29</th>\n",
              "      <td>Apple iPad Pro (A1652)</td>\n",
              "      <td>1.281090e+08</td>\n",
              "    </tr>\n",
              "    <tr>\n",
              "      <th>899</th>\n",
              "      <td>Samsung Galaxy J8 2018</td>\n",
              "      <td>1.157583e+08</td>\n",
              "    </tr>\n",
              "    <tr>\n",
              "      <th>212</th>\n",
              "      <td>Dynamic Tech Hol. D-Mobile I3 I5 I7 I8 I9</td>\n",
              "      <td>1.038712e+08</td>\n",
              "    </tr>\n",
              "    <tr>\n",
              "      <th>1336</th>\n",
              "      <td>Xiaomi Communica. Mi 6</td>\n",
              "      <td>7.538708e+07</td>\n",
              "    </tr>\n",
              "    <tr>\n",
              "      <th>341</th>\n",
              "      <td>Huawei E5573</td>\n",
              "      <td>7.146842e+07</td>\n",
              "    </tr>\n",
              "  </tbody>\n",
              "</table>\n",
              "</div>"
            ],
            "text/plain": [
              "                                   Handset Type           TCP\n",
              "584                                  Lg Lg-H635  9.125804e+08\n",
              "324                             Huawei Bln-Al10  3.291746e+08\n",
              "142         Asustek Asus Zenfone Selfie Zd551Kl  3.216583e+08\n",
              "972             Samsung Galaxy Tab S3 (Sm-T825)  2.027976e+08\n",
              "345                            Huawei E5776S-32  1.688455e+08\n",
              "29                       Apple iPad Pro (A1652)  1.281090e+08\n",
              "899                      Samsung Galaxy J8 2018  1.157583e+08\n",
              "212   Dynamic Tech Hol. D-Mobile I3 I5 I7 I8 I9  1.038712e+08\n",
              "1336                     Xiaomi Communica. Mi 6  7.538708e+07\n",
              "341                                Huawei E5573  7.146842e+07"
            ]
          },
          "metadata": {
            "tags": []
          },
          "execution_count": 180
        }
      ]
    },
    {
      "cell_type": "code",
      "metadata": {
        "id": "w_4PUt51YRz-",
        "colab_type": "code",
        "colab": {
          "base_uri": "https://localhost:8080/",
          "height": 343
        },
        "outputId": "42d41486-ee1f-4995-b765-614f73f60156"
      },
      "source": [
        "df.groupby('Handset Type')['TP'].mean().reset_index().sort_values(by = 'TP',ascending = False)[:10]"
      ],
      "execution_count": 181,
      "outputs": [
        {
          "output_type": "execute_result",
          "data": {
            "text/html": [
              "<div>\n",
              "<style scoped>\n",
              "    .dataframe tbody tr th:only-of-type {\n",
              "        vertical-align: middle;\n",
              "    }\n",
              "\n",
              "    .dataframe tbody tr th {\n",
              "        vertical-align: top;\n",
              "    }\n",
              "\n",
              "    .dataframe thead th {\n",
              "        text-align: right;\n",
              "    }\n",
              "</style>\n",
              "<table border=\"1\" class=\"dataframe\">\n",
              "  <thead>\n",
              "    <tr style=\"text-align: right;\">\n",
              "      <th></th>\n",
              "      <th>Handset Type</th>\n",
              "      <th>TP</th>\n",
              "    </tr>\n",
              "  </thead>\n",
              "  <tbody>\n",
              "    <tr>\n",
              "      <th>321</th>\n",
              "      <td>Huawei B715S-23C</td>\n",
              "      <td>108994.230769</td>\n",
              "    </tr>\n",
              "    <tr>\n",
              "      <th>704</th>\n",
              "      <td>New-Bund Technol. Mix 2</td>\n",
              "      <td>105211.000000</td>\n",
              "    </tr>\n",
              "    <tr>\n",
              "      <th>573</th>\n",
              "      <td>Lg G6+</td>\n",
              "      <td>100135.000000</td>\n",
              "    </tr>\n",
              "    <tr>\n",
              "      <th>1391</th>\n",
              "      <td>Zyxel Communicat. Sbg3600</td>\n",
              "      <td>97351.000000</td>\n",
              "    </tr>\n",
              "    <tr>\n",
              "      <th>466</th>\n",
              "      <td>Huawei Y9 2019</td>\n",
              "      <td>91739.000000</td>\n",
              "    </tr>\n",
              "    <tr>\n",
              "      <th>1334</th>\n",
              "      <td>Xiaomi Communica. M1902F1G</td>\n",
              "      <td>85613.666667</td>\n",
              "    </tr>\n",
              "    <tr>\n",
              "      <th>1154</th>\n",
              "      <td>Spa Condor Elect. Allure M2</td>\n",
              "      <td>84311.500000</td>\n",
              "    </tr>\n",
              "    <tr>\n",
              "      <th>777</th>\n",
              "      <td>Ovvi-Cellphone T. Echo</td>\n",
              "      <td>78953.000000</td>\n",
              "    </tr>\n",
              "    <tr>\n",
              "      <th>424</th>\n",
              "      <td>Huawei Pele</td>\n",
              "      <td>78381.000000</td>\n",
              "    </tr>\n",
              "    <tr>\n",
              "      <th>1162</th>\n",
              "      <td>Spa Condor Elect. Plume L2</td>\n",
              "      <td>76529.000000</td>\n",
              "    </tr>\n",
              "  </tbody>\n",
              "</table>\n",
              "</div>"
            ],
            "text/plain": [
              "                     Handset Type             TP\n",
              "321              Huawei B715S-23C  108994.230769\n",
              "704       New-Bund Technol. Mix 2  105211.000000\n",
              "573                        Lg G6+  100135.000000\n",
              "1391    Zyxel Communicat. Sbg3600   97351.000000\n",
              "466                Huawei Y9 2019   91739.000000\n",
              "1334   Xiaomi Communica. M1902F1G   85613.666667\n",
              "1154  Spa Condor Elect. Allure M2   84311.500000\n",
              "777        Ovvi-Cellphone T. Echo   78953.000000\n",
              "424                   Huawei Pele   78381.000000\n",
              "1162   Spa Condor Elect. Plume L2   76529.000000"
            ]
          },
          "metadata": {
            "tags": []
          },
          "execution_count": 181
        }
      ]
    },
    {
      "cell_type": "code",
      "metadata": {
        "id": "LeHNGZyGZEAf",
        "colab_type": "code",
        "colab": {}
      },
      "source": [
        "v = df_exp.groupby('Handset Type')['TP'].mean()"
      ],
      "execution_count": 182,
      "outputs": []
    },
    {
      "cell_type": "code",
      "metadata": {
        "id": "nRvq1J75YI5L",
        "colab_type": "code",
        "colab": {
          "base_uri": "https://localhost:8080/",
          "height": 195
        },
        "outputId": "cf84c6da-1e3c-48f0-f756-271f83481f8a"
      },
      "source": [
        "\n",
        "exp_dist = pd.DataFrame(v)\n",
        "exp_dist.reset_index(inplace= True) ; exp_dist.head()"
      ],
      "execution_count": 183,
      "outputs": [
        {
          "output_type": "execute_result",
          "data": {
            "text/html": [
              "<div>\n",
              "<style scoped>\n",
              "    .dataframe tbody tr th:only-of-type {\n",
              "        vertical-align: middle;\n",
              "    }\n",
              "\n",
              "    .dataframe tbody tr th {\n",
              "        vertical-align: top;\n",
              "    }\n",
              "\n",
              "    .dataframe thead th {\n",
              "        text-align: right;\n",
              "    }\n",
              "</style>\n",
              "<table border=\"1\" class=\"dataframe\">\n",
              "  <thead>\n",
              "    <tr style=\"text-align: right;\">\n",
              "      <th></th>\n",
              "      <th>Handset Type</th>\n",
              "      <th>TP</th>\n",
              "    </tr>\n",
              "  </thead>\n",
              "  <tbody>\n",
              "    <tr>\n",
              "      <th>0</th>\n",
              "      <td>1</td>\n",
              "      <td>11425.392803</td>\n",
              "    </tr>\n",
              "    <tr>\n",
              "      <th>1</th>\n",
              "      <td>2</td>\n",
              "      <td>31864.672571</td>\n",
              "    </tr>\n",
              "    <tr>\n",
              "      <th>2</th>\n",
              "      <td>3</td>\n",
              "      <td>58128.847354</td>\n",
              "    </tr>\n",
              "    <tr>\n",
              "      <th>3</th>\n",
              "      <td>4</td>\n",
              "      <td>105804.324615</td>\n",
              "    </tr>\n",
              "    <tr>\n",
              "      <th>4</th>\n",
              "      <td>5</td>\n",
              "      <td>157585.699360</td>\n",
              "    </tr>\n",
              "  </tbody>\n",
              "</table>\n",
              "</div>"
            ],
            "text/plain": [
              "   Handset Type             TP\n",
              "0             1   11425.392803\n",
              "1             2   31864.672571\n",
              "2             3   58128.847354\n",
              "3             4  105804.324615\n",
              "4             5  157585.699360"
            ]
          },
          "metadata": {
            "tags": []
          },
          "execution_count": 183
        }
      ]
    },
    {
      "cell_type": "code",
      "metadata": {
        "id": "yDwOpiZnZIPD",
        "colab_type": "code",
        "colab": {
          "base_uri": "https://localhost:8080/",
          "height": 290
        },
        "outputId": "a7ee59fd-1159-41d5-ab97-3f9125ac60c3"
      },
      "source": [
        "sns.distplot(exp_dist.TP);"
      ],
      "execution_count": 184,
      "outputs": [
        {
          "output_type": "display_data",
          "data": {
            "image/png": "[encoded data removed]",
            "text/plain": [
              "<Figure size 432x288 with 1 Axes>"
            ]
          },
          "metadata": {
            "tags": [],
            "needs_background": "light"
          }
        }
      ]
    },
    {
      "cell_type": "code",
      "metadata": {
        "id": "xDyhfh8TZOjB",
        "colab_type": "code",
        "colab": {
          "base_uri": "https://localhost:8080/",
          "height": 195
        },
        "outputId": "bf78a2bc-52e8-4b61-b17d-9560da355ca4"
      },
      "source": [
        "v = df_exp.groupby('Handset Type')['TCP'].mean()\n",
        "tcp_per_handset = pd.DataFrame(v)\n",
        "tcp_per_handset.reset_index(inplace = True); tcp_per_handset.head()"
      ],
      "execution_count": 185,
      "outputs": [
        {
          "output_type": "execute_result",
          "data": {
            "text/html": [
              "<div>\n",
              "<style scoped>\n",
              "    .dataframe tbody tr th:only-of-type {\n",
              "        vertical-align: middle;\n",
              "    }\n",
              "\n",
              "    .dataframe tbody tr th {\n",
              "        vertical-align: top;\n",
              "    }\n",
              "\n",
              "    .dataframe thead th {\n",
              "        text-align: right;\n",
              "    }\n",
              "</style>\n",
              "<table border=\"1\" class=\"dataframe\">\n",
              "  <thead>\n",
              "    <tr style=\"text-align: right;\">\n",
              "      <th></th>\n",
              "      <th>Handset Type</th>\n",
              "      <th>TCP</th>\n",
              "    </tr>\n",
              "  </thead>\n",
              "  <tbody>\n",
              "    <tr>\n",
              "      <th>0</th>\n",
              "      <td>1</td>\n",
              "      <td>2.035971e+07</td>\n",
              "    </tr>\n",
              "    <tr>\n",
              "      <th>1</th>\n",
              "      <td>2</td>\n",
              "      <td>4.236506e+07</td>\n",
              "    </tr>\n",
              "    <tr>\n",
              "      <th>2</th>\n",
              "      <td>3</td>\n",
              "      <td>7.109090e+07</td>\n",
              "    </tr>\n",
              "    <tr>\n",
              "      <th>3</th>\n",
              "      <td>4</td>\n",
              "      <td>1.017288e+08</td>\n",
              "    </tr>\n",
              "    <tr>\n",
              "      <th>4</th>\n",
              "      <td>5</td>\n",
              "      <td>1.821244e+08</td>\n",
              "    </tr>\n",
              "  </tbody>\n",
              "</table>\n",
              "</div>"
            ],
            "text/plain": [
              "   Handset Type           TCP\n",
              "0             1  2.035971e+07\n",
              "1             2  4.236506e+07\n",
              "2             3  7.109090e+07\n",
              "3             4  1.017288e+08\n",
              "4             5  1.821244e+08"
            ]
          },
          "metadata": {
            "tags": []
          },
          "execution_count": 185
        }
      ]
    },
    {
      "cell_type": "code",
      "metadata": {
        "id": "6U_j1kQRZ1Bi",
        "colab_type": "code",
        "colab": {
          "base_uri": "https://localhost:8080/",
          "height": 290
        },
        "outputId": "c4a572e3-cb2f-464f-dea5-cb83207443b8"
      },
      "source": [
        "sns.distplot(tcp_per_handset.TCP);"
      ],
      "execution_count": 186,
      "outputs": [
        {
          "output_type": "display_data",
          "data": {
            "image/png": "[encoded data removed]",
            "text/plain": [
              "<Figure size 432x288 with 1 Axes>"
            ]
          },
          "metadata": {
            "tags": [],
            "needs_background": "light"
          }
        }
      ]
    },
    {
      "cell_type": "code",
      "metadata": {
        "id": "yCA1QKzYZ3-t",
        "colab_type": "code",
        "colab": {}
      },
      "source": [
        "P = PowerTransformer()\n",
        "df_exp_scaled = P.fit_transform(df_exp[df_exp.columns[1:-1]])"
      ],
      "execution_count": 187,
      "outputs": []
    },
    {
      "cell_type": "code",
      "metadata": {
        "id": "_7TxxKaUaNdV",
        "colab_type": "code",
        "colab": {}
      },
      "source": [
        "kmeans_2 = KMeans(n_clusters = 3, random_state = 21)\n",
        "kmeans_2.fit(df_exp_scaled)\n",
        "df_exp['cluster'] = kmeans_2.labels_"
      ],
      "execution_count": 188,
      "outputs": []
    },
    {
      "cell_type": "code",
      "metadata": {
        "id": "Gzn2Mlzbae0h",
        "colab_type": "code",
        "colab": {
          "base_uri": "https://localhost:8080/",
          "height": 924
        },
        "outputId": "003bddd0-a291-4d04-fd33-5c174d61be0c"
      },
      "source": [
        "#description per cluster\n",
        "for i in range(3):\n",
        "  print(f\"cluster {i}: \\n\")\n",
        "  for cols in df_exp.columns[1:-1]:\n",
        "    if df_exp[cols].dtype == 'O':\n",
        "      mode = df_exp[df_exp.cluster == i][cols].mode()[0]\n",
        "      print(f'column: {cols}\\n mode: {mode}\\n')\n",
        "    else:\n",
        "      min, max = df_exp[df_exp.cluster == i][cols].min(), df_exp[df_exp.cluster == i][cols].max()\n",
        "      avg, total = df_exp[df_exp.cluster == i][cols].mean(), df_exp[df_exp.cluster == i][cols].sum()\n",
        "      print(f'column: {cols}\\n min: {min} <-> max: {max} \\n average: {avg} <-> total: {total}\\n')"
      ],
      "execution_count": 189,
      "outputs": [
        {
          "output_type": "stream",
          "text": [
            "cluster 0: \n",
            "\n",
            "column: RTT\n",
            " min: 0.0 <-> max: 6175.0 \n",
            " average: 77.7811199741498 <-> total: 4167279.0648537343\n",
            "\n",
            "column: TP\n",
            " min: 0.0 <-> max: 67524.0 \n",
            " average: 254.7827612594957 <-> total: 13650496.0\n",
            "\n",
            "column: TCP\n",
            " min: 766255.4961037483 <-> max: 269989272.0 \n",
            " average: 24130419.897788838 <-> total: 1292835506863.3616\n",
            "\n",
            "column: Handset Type\n",
            " min: 1 <-> max: 4 \n",
            " average: 1.1233178416111391 <-> total: 60184\n",
            "\n",
            "cluster 1: \n",
            "\n",
            "column: RTT\n",
            " min: 19.0 <-> max: 27278.0 \n",
            " average: 200.50829790666427 <-> total: 5155469.355776146\n",
            "\n",
            "column: TP\n",
            " min: 26.0 <-> max: 382871.0 \n",
            " average: 31302.756728375854 <-> total: 804856481.0\n",
            "\n",
            "column: TCP\n",
            " min: 97.0 <-> max: 16896851.0 \n",
            " average: 1214929.7144834793 <-> total: 31238272818.796436\n",
            "\n",
            "column: Handset Type\n",
            " min: 1 <-> max: 8 \n",
            " average: 1.0874299937772247 <-> total: 27960\n",
            "\n",
            "cluster 2: \n",
            "\n",
            "column: RTT\n",
            " min: 27.0 <-> max: 96924.0 \n",
            " average: 341.80378451319956 <-> total: 9422504.927674476\n",
            "\n",
            "column: TP\n",
            " min: 3.0 <-> max: 902222.0 \n",
            " average: 51656.00340987412 <-> total: 1424001046.0\n",
            "\n",
            "column: TCP\n",
            " min: 766339.4961037483 <-> max: 8354209105.0 \n",
            " average: 68938699.43161319 <-> total: 1900433127231.1187\n",
            "\n",
            "column: Handset Type\n",
            " min: 1 <-> max: 18 \n",
            " average: 2.2052091268545726 <-> total: 60791\n",
            "\n"
          ],
          "name": "stdout"
        }
      ]
    },
    {
      "cell_type": "markdown",
      "metadata": {
        "id": "0SEAvJf-apuy",
        "colab_type": "text"
      },
      "source": [
        "# Satisfaction Analysis"
      ]
    },
    {
      "cell_type": "code",
      "metadata": {
        "id": "Xgl1gHAOakOb",
        "colab_type": "code",
        "colab": {
          "base_uri": "https://localhost:8080/",
          "height": 195
        },
        "outputId": "661b33b2-ccd8-44a4-dec8-08bae2e587c7"
      },
      "source": [
        "df_task2.head()"
      ],
      "execution_count": 190,
      "outputs": [
        {
          "output_type": "execute_result",
          "data": {
            "text/html": [
              "<div>\n",
              "<style scoped>\n",
              "    .dataframe tbody tr th:only-of-type {\n",
              "        vertical-align: middle;\n",
              "    }\n",
              "\n",
              "    .dataframe tbody tr th {\n",
              "        vertical-align: top;\n",
              "    }\n",
              "\n",
              "    .dataframe thead th {\n",
              "        text-align: right;\n",
              "    }\n",
              "</style>\n",
              "<table border=\"1\" class=\"dataframe\">\n",
              "  <thead>\n",
              "    <tr style=\"text-align: right;\">\n",
              "      <th></th>\n",
              "      <th>MSISDN/Number</th>\n",
              "      <th>Bearer Id</th>\n",
              "      <th>Dur. (ms).1</th>\n",
              "      <th>TotalUl/Dl</th>\n",
              "      <th>cluster</th>\n",
              "    </tr>\n",
              "  </thead>\n",
              "  <tbody>\n",
              "    <tr>\n",
              "      <th>0</th>\n",
              "      <td>3.360100e+10</td>\n",
              "      <td>1</td>\n",
              "      <td>116720140.0</td>\n",
              "      <td>8.786906e+08</td>\n",
              "      <td>0</td>\n",
              "    </tr>\n",
              "    <tr>\n",
              "      <th>1</th>\n",
              "      <td>3.360100e+10</td>\n",
              "      <td>1</td>\n",
              "      <td>181230963.0</td>\n",
              "      <td>1.568596e+08</td>\n",
              "      <td>2</td>\n",
              "    </tr>\n",
              "    <tr>\n",
              "      <th>2</th>\n",
              "      <td>3.360100e+10</td>\n",
              "      <td>1</td>\n",
              "      <td>134969374.0</td>\n",
              "      <td>5.959665e+08</td>\n",
              "      <td>0</td>\n",
              "    </tr>\n",
              "    <tr>\n",
              "      <th>3</th>\n",
              "      <td>3.360101e+10</td>\n",
              "      <td>1</td>\n",
              "      <td>49878024.0</td>\n",
              "      <td>4.223207e+08</td>\n",
              "      <td>0</td>\n",
              "    </tr>\n",
              "    <tr>\n",
              "      <th>4</th>\n",
              "      <td>3.360101e+10</td>\n",
              "      <td>2</td>\n",
              "      <td>37104453.0</td>\n",
              "      <td>1.457411e+09</td>\n",
              "      <td>1</td>\n",
              "    </tr>\n",
              "  </tbody>\n",
              "</table>\n",
              "</div>"
            ],
            "text/plain": [
              "   MSISDN/Number  Bearer Id  Dur. (ms).1    TotalUl/Dl  cluster\n",
              "0   3.360100e+10          1  116720140.0  8.786906e+08        0\n",
              "1   3.360100e+10          1  181230963.0  1.568596e+08        2\n",
              "2   3.360100e+10          1  134969374.0  5.959665e+08        0\n",
              "3   3.360101e+10          1   49878024.0  4.223207e+08        0\n",
              "4   3.360101e+10          2   37104453.0  1.457411e+09        1"
            ]
          },
          "metadata": {
            "tags": []
          },
          "execution_count": 190
        }
      ]
    },
    {
      "cell_type": "code",
      "metadata": {
        "id": "kl-HLlVndCpK",
        "colab_type": "code",
        "colab": {
          "base_uri": "https://localhost:8080/",
          "height": 67
        },
        "outputId": "1b0f8c3e-ad21-47d7-e80e-b9378cee1215"
      },
      "source": [
        "kmeans_1.cluster_centers_"
      ],
      "execution_count": 195,
      "outputs": [
        {
          "output_type": "execute_result",
          "data": {
            "text/plain": [
              "array([[ 0.        , -0.61141898,  0.        ,  0.13427976],\n",
              "       [ 0.        ,  1.63203223,  0.        ,  1.00744632],\n",
              "       [ 0.        , -0.601852  ,  0.        , -1.27553455]])"
            ]
          },
          "metadata": {
            "tags": []
          },
          "execution_count": 195
        }
      ]
    },
    {
      "cell_type": "code",
      "metadata": {
        "id": "soNHxqqjbYwy",
        "colab_type": "code",
        "colab": {}
      },
      "source": [
        "from scipy.spatial import distance\n",
        "engagement_score = []\n",
        "centroids_1 = kmeans_1.cluster_centers_[:,2]\n",
        "for i in df_task2.index:\n",
        "    idx = df_task2.iloc[i][1]\n",
        "    engagement_score.append(distance.euclidean(idx, centroids_1))"
      ],
      "execution_count": 194,
      "outputs": []
    },
    {
      "cell_type": "code",
      "metadata": {
        "id": "NyiZPIVNcUB1",
        "colab_type": "code",
        "colab": {
          "base_uri": "https://localhost:8080/",
          "height": 34
        },
        "outputId": "1ff5efb5-81d6-4fde-f920-7c9b9669821b"
      },
      "source": [
        "engagement_score[:3]"
      ],
      "execution_count": 196,
      "outputs": [
        {
          "output_type": "execute_result",
          "data": {
            "text/plain": [
              "[1.7320508075688772, 1.7320508075688772, 1.7320508075688772]"
            ]
          },
          "metadata": {
            "tags": []
          },
          "execution_count": 196
        }
      ]
    },
    {
      "cell_type": "code",
      "metadata": {
        "id": "CN_tZzLfdRWS",
        "colab_type": "code",
        "colab": {
          "base_uri": "https://localhost:8080/",
          "height": 67
        },
        "outputId": "7baa5129-eb82-4747-e906-0a1ad52b8585"
      },
      "source": [
        "kmeans_2.cluster_centers_"
      ],
      "execution_count": 197,
      "outputs": [
        {
          "output_type": "execute_result",
          "data": {
            "text/plain": [
              "array([[-0.44794947, -0.86401946,  0.3711895 ],\n",
              "       [ 0.06624948,  0.84011596, -1.46684595],\n",
              "       [ 0.81052947,  0.89778031,  0.64767161]])"
            ]
          },
          "metadata": {
            "tags": []
          },
          "execution_count": 197
        }
      ]
    },
    {
      "cell_type": "code",
      "metadata": {
        "id": "DF5gep4Tcf3J",
        "colab_type": "code",
        "colab": {}
      },
      "source": [
        "experience_score = []\n",
        "centroids_2 = kmeans.cluster_centers_[0,:]\n",
        "for i in df_exp.index:\n",
        "    idx = df_exp.iloc[i][1]\n",
        "    experience_score.append(distance.euclidean(idx, centroids_2))"
      ],
      "execution_count": 200,
      "outputs": []
    },
    {
      "cell_type": "code",
      "metadata": {
        "id": "_vRT2SM0cuh9",
        "colab_type": "code",
        "colab": {
          "base_uri": "https://localhost:8080/",
          "height": 34
        },
        "outputId": "89ef6d8a-2f17-45c9-94fd-0117f87c2a0c"
      },
      "source": [
        "experience_score[:3]"
      ],
      "execution_count": 201,
      "outputs": [
        {
          "output_type": "execute_result",
          "data": {
            "text/plain": [
              "[91.01428949816639, 61.01887138700583, 250.73230442784921]"
            ]
          },
          "metadata": {
            "tags": []
          },
          "execution_count": 201
        }
      ]
    },
    {
      "cell_type": "code",
      "metadata": {
        "id": "SIolJKc4eKZe",
        "colab_type": "code",
        "colab": {
          "base_uri": "https://localhost:8080/",
          "height": 118
        },
        "outputId": "0798169c-b75c-4b0b-a5f7-e7393601b04a"
      },
      "source": [
        "df_exp['MSISDN/Number'].head()"
      ],
      "execution_count": 207,
      "outputs": [
        {
          "output_type": "execute_result",
          "data": {
            "text/plain": [
              "0    3.360100e+10\n",
              "1    3.360100e+10\n",
              "2    3.360100e+10\n",
              "3    3.360101e+10\n",
              "4    3.360101e+10\n",
              "Name: MSISDN/Number, dtype: float64"
            ]
          },
          "metadata": {
            "tags": []
          },
          "execution_count": 207
        }
      ]
    },
    {
      "cell_type": "code",
      "metadata": {
        "id": "-CMdMmBDebzH",
        "colab_type": "code",
        "colab": {}
      },
      "source": [
        "train_df = pd.DataFrame(columns = ['exp_score', 'eng_score'])"
      ],
      "execution_count": 209,
      "outputs": []
    },
    {
      "cell_type": "code",
      "metadata": {
        "id": "iZVaez3pfgd3",
        "colab_type": "code",
        "colab": {}
      },
      "source": [
        "train_df['eng_score'] = engagement_score\n",
        "train_df['exp_score'] = experience_score\n",
        "train_df['MSISDN/Number'] = df_exp['MSISDN/Number']"
      ],
      "execution_count": 223,
      "outputs": []
    },
    {
      "cell_type": "code",
      "metadata": {
        "id": "CT1VaP7Geubs",
        "colab_type": "code",
        "colab": {}
      },
      "source": [
        "train_df['sat_score'] = (train_df.exp_score+ + train_df.eng_score) /2"
      ],
      "execution_count": 224,
      "outputs": []
    },
    {
      "cell_type": "code",
      "metadata": {
        "id": "ovIYxQCCgOS3",
        "colab_type": "code",
        "colab": {
          "base_uri": "https://localhost:8080/",
          "height": 195
        },
        "outputId": "917fd0fa-bec4-4b12-e8d4-b2fbec0f3119"
      },
      "source": [
        "train_df.head()"
      ],
      "execution_count": 225,
      "outputs": [
        {
          "output_type": "execute_result",
          "data": {
            "text/html": [
              "<div>\n",
              "<style scoped>\n",
              "    .dataframe tbody tr th:only-of-type {\n",
              "        vertical-align: middle;\n",
              "    }\n",
              "\n",
              "    .dataframe tbody tr th {\n",
              "        vertical-align: top;\n",
              "    }\n",
              "\n",
              "    .dataframe thead th {\n",
              "        text-align: right;\n",
              "    }\n",
              "</style>\n",
              "<table border=\"1\" class=\"dataframe\">\n",
              "  <thead>\n",
              "    <tr style=\"text-align: right;\">\n",
              "      <th></th>\n",
              "      <th>exp_score</th>\n",
              "      <th>eng_score</th>\n",
              "      <th>sat_score</th>\n",
              "      <th>MSISDN/Number</th>\n",
              "    </tr>\n",
              "  </thead>\n",
              "  <tbody>\n",
              "    <tr>\n",
              "      <th>0</th>\n",
              "      <td>91.014289</td>\n",
              "      <td>1.732051</td>\n",
              "      <td>46.373170</td>\n",
              "      <td>3.360100e+10</td>\n",
              "    </tr>\n",
              "    <tr>\n",
              "      <th>1</th>\n",
              "      <td>61.018871</td>\n",
              "      <td>1.732051</td>\n",
              "      <td>31.375461</td>\n",
              "      <td>3.360100e+10</td>\n",
              "    </tr>\n",
              "    <tr>\n",
              "      <th>2</th>\n",
              "      <td>250.732304</td>\n",
              "      <td>1.732051</td>\n",
              "      <td>126.232178</td>\n",
              "      <td>3.360100e+10</td>\n",
              "    </tr>\n",
              "    <tr>\n",
              "      <th>3</th>\n",
              "      <td>167.010049</td>\n",
              "      <td>1.732051</td>\n",
              "      <td>84.371050</td>\n",
              "      <td>3.360101e+10</td>\n",
              "    </tr>\n",
              "    <tr>\n",
              "      <th>4</th>\n",
              "      <td>237.008549</td>\n",
              "      <td>3.464102</td>\n",
              "      <td>120.236325</td>\n",
              "      <td>3.360101e+10</td>\n",
              "    </tr>\n",
              "  </tbody>\n",
              "</table>\n",
              "</div>"
            ],
            "text/plain": [
              "    exp_score  eng_score   sat_score  MSISDN/Number\n",
              "0   91.014289   1.732051   46.373170   3.360100e+10\n",
              "1   61.018871   1.732051   31.375461   3.360100e+10\n",
              "2  250.732304   1.732051  126.232178   3.360100e+10\n",
              "3  167.010049   1.732051   84.371050   3.360101e+10\n",
              "4  237.008549   3.464102  120.236325   3.360101e+10"
            ]
          },
          "metadata": {
            "tags": []
          },
          "execution_count": 225
        }
      ]
    },
    {
      "cell_type": "markdown",
      "metadata": {
        "id": "kU-2bc-ghob_",
        "colab_type": "text"
      },
      "source": [
        "Top 10 Satisfied Customers"
      ]
    },
    {
      "cell_type": "code",
      "metadata": {
        "id": "eVRsWefcghOC",
        "colab_type": "code",
        "colab": {
          "base_uri": "https://localhost:8080/",
          "height": 343
        },
        "outputId": "fc8794c5-ab20-4e55-c1b1-d3c213cd5918"
      },
      "source": [
        "train_df.sort_values(by = 'sat_score', ascending = False, ignore_index= True)[['MSISDN/Number', 'sat_score']].head(10)"
      ],
      "execution_count": 226,
      "outputs": [
        {
          "output_type": "execute_result",
          "data": {
            "text/html": [
              "<div>\n",
              "<style scoped>\n",
              "    .dataframe tbody tr th:only-of-type {\n",
              "        vertical-align: middle;\n",
              "    }\n",
              "\n",
              "    .dataframe tbody tr th {\n",
              "        vertical-align: top;\n",
              "    }\n",
              "\n",
              "    .dataframe thead th {\n",
              "        text-align: right;\n",
              "    }\n",
              "</style>\n",
              "<table border=\"1\" class=\"dataframe\">\n",
              "  <thead>\n",
              "    <tr style=\"text-align: right;\">\n",
              "      <th></th>\n",
              "      <th>MSISDN/Number</th>\n",
              "      <th>sat_score</th>\n",
              "    </tr>\n",
              "  </thead>\n",
              "  <tbody>\n",
              "    <tr>\n",
              "      <th>0</th>\n",
              "      <td>3.366232e+10</td>\n",
              "      <td>96924.368513</td>\n",
              "    </tr>\n",
              "    <tr>\n",
              "      <th>1</th>\n",
              "      <td>3.366087e+10</td>\n",
              "      <td>64671.234539</td>\n",
              "    </tr>\n",
              "    <tr>\n",
              "      <th>2</th>\n",
              "      <td>3.368369e+10</td>\n",
              "      <td>54848.368514</td>\n",
              "    </tr>\n",
              "    <tr>\n",
              "      <th>3</th>\n",
              "      <td>3.369855e+10</td>\n",
              "      <td>46022.234541</td>\n",
              "    </tr>\n",
              "    <tr>\n",
              "      <th>4</th>\n",
              "      <td>3.376181e+10</td>\n",
              "      <td>37086.966593</td>\n",
              "    </tr>\n",
              "    <tr>\n",
              "      <th>5</th>\n",
              "      <td>3.366879e+10</td>\n",
              "      <td>36305.234542</td>\n",
              "    </tr>\n",
              "    <tr>\n",
              "      <th>6</th>\n",
              "      <td>3.376094e+10</td>\n",
              "      <td>27278.368518</td>\n",
              "    </tr>\n",
              "    <tr>\n",
              "      <th>7</th>\n",
              "      <td>3.360679e+10</td>\n",
              "      <td>26300.368519</td>\n",
              "    </tr>\n",
              "    <tr>\n",
              "      <th>8</th>\n",
              "      <td>3.367182e+10</td>\n",
              "      <td>25715.368519</td>\n",
              "    </tr>\n",
              "    <tr>\n",
              "      <th>9</th>\n",
              "      <td>3.378187e+10</td>\n",
              "      <td>25388.368519</td>\n",
              "    </tr>\n",
              "  </tbody>\n",
              "</table>\n",
              "</div>"
            ],
            "text/plain": [
              "   MSISDN/Number     sat_score\n",
              "0   3.366232e+10  96924.368513\n",
              "1   3.366087e+10  64671.234539\n",
              "2   3.368369e+10  54848.368514\n",
              "3   3.369855e+10  46022.234541\n",
              "4   3.376181e+10  37086.966593\n",
              "5   3.366879e+10  36305.234542\n",
              "6   3.376094e+10  27278.368518\n",
              "7   3.360679e+10  26300.368519\n",
              "8   3.367182e+10  25715.368519\n",
              "9   3.378187e+10  25388.368519"
            ]
          },
          "metadata": {
            "tags": []
          },
          "execution_count": 226
        }
      ]
    },
    {
      "cell_type": "markdown",
      "metadata": {
        "id": "IVhAKqeXhhkG",
        "colab_type": "text"
      },
      "source": [
        "predict satisfaction score using regression"
      ]
    },
    {
      "cell_type": "code",
      "metadata": {
        "id": "VvlUsPCFhr1_",
        "colab_type": "code",
        "colab": {}
      },
      "source": [
        "from sklearn.model_selection import train_test_split\n",
        "from sklearn.ensemble import RandomForestRegressor\n",
        "from sklearn.metrics import r2_score"
      ],
      "execution_count": 238,
      "outputs": []
    },
    {
      "cell_type": "code",
      "metadata": {
        "id": "8KikOWYDhfsv",
        "colab_type": "code",
        "colab": {}
      },
      "source": [
        "X = train_df.drop(['MSISDN/Number', 'sat_score'], axis = 1)\n",
        "y = train_df.sat_score"
      ],
      "execution_count": 230,
      "outputs": []
    },
    {
      "cell_type": "code",
      "metadata": {
        "id": "JVJfkHTsg5xl",
        "colab_type": "code",
        "colab": {}
      },
      "source": [
        "X_train, X_test, y_train, y_test = train_test_split(X,y, test_size = .3, random_state = 9)"
      ],
      "execution_count": 231,
      "outputs": []
    },
    {
      "cell_type": "code",
      "metadata": {
        "id": "Xxh2Yv_pilwU",
        "colab_type": "code",
        "colab": {
          "base_uri": "https://localhost:8080/",
          "height": 34
        },
        "outputId": "13bdefce-0c3a-46c0-9b1a-52ccf02644e3"
      },
      "source": [
        "X_train.shape, X_test.shape"
      ],
      "execution_count": 232,
      "outputs": [
        {
          "output_type": "execute_result",
          "data": {
            "text/plain": [
              "((74799, 2), (32057, 2))"
            ]
          },
          "metadata": {
            "tags": []
          },
          "execution_count": 232
        }
      ]
    },
    {
      "cell_type": "code",
      "metadata": {
        "id": "CfopGA0bio7_",
        "colab_type": "code",
        "colab": {
          "base_uri": "https://localhost:8080/",
          "height": 134
        },
        "outputId": "00e61204-1354-4b23-89d1-7f5a746bc01c"
      },
      "source": [
        "rf =RandomForestRegressor(random_state= 10)\n",
        "rf.fit(X_train, y_train)"
      ],
      "execution_count": 233,
      "outputs": [
        {
          "output_type": "execute_result",
          "data": {
            "text/plain": [
              "RandomForestRegressor(bootstrap=True, ccp_alpha=0.0, criterion='mse',\n",
              "                      max_depth=None, max_features='auto', max_leaf_nodes=None,\n",
              "                      max_samples=None, min_impurity_decrease=0.0,\n",
              "                      min_impurity_split=None, min_samples_leaf=1,\n",
              "                      min_samples_split=2, min_weight_fraction_leaf=0.0,\n",
              "                      n_estimators=100, n_jobs=None, oob_score=False,\n",
              "                      random_state=10, verbose=0, warm_start=False)"
            ]
          },
          "metadata": {
            "tags": []
          },
          "execution_count": 233
        }
      ]
    },
    {
      "cell_type": "code",
      "metadata": {
        "id": "XbPXFKGui_Bj",
        "colab_type": "code",
        "colab": {
          "base_uri": "https://localhost:8080/",
          "height": 34
        },
        "outputId": "db65b573-e0d0-46c1-8622-ab708398011a"
      },
      "source": [
        "r2_score(y_train, rf.predict(X_train)), r2_score(y_test, rf.predict(X_test))"
      ],
      "execution_count": 239,
      "outputs": [
        {
          "output_type": "execute_result",
          "data": {
            "text/plain": [
              "(0.9966467906294947, 0.888439940289608)"
            ]
          },
          "metadata": {
            "tags": []
          },
          "execution_count": 239
        }
      ]
    },
    {
      "cell_type": "markdown",
      "metadata": {
        "id": "rMN3UlAEjqeW",
        "colab_type": "text"
      },
      "source": [
        "0.89 r2 score on the test set."
      ]
    },
    {
      "cell_type": "code",
      "metadata": {
        "id": "qnlsmA6wjW6K",
        "colab_type": "code",
        "colab": {}
      },
      "source": [
        "P = PowerTransformer()\n",
        "train_scaled = P.fit_transform(train_df[train_df.columns[:2]])"
      ],
      "execution_count": 241,
      "outputs": []
    },
    {
      "cell_type": "code",
      "metadata": {
        "id": "NwRdldOQkV6e",
        "colab_type": "code",
        "colab": {}
      },
      "source": [
        "kmeans = KMeans(2, random_state=3)\n",
        "kmeans.fit(train_scaled)\n",
        "train_df['cluster'] = kmeans.labels_"
      ],
      "execution_count": 242,
      "outputs": []
    },
    {
      "cell_type": "code",
      "metadata": {
        "id": "bc22LGPXkr8V",
        "colab_type": "code",
        "colab": {
          "base_uri": "https://localhost:8080/",
          "height": 136
        },
        "outputId": "49cc3562-27b6-4998-dde7-c2b8fb1d072c"
      },
      "source": [
        "train_df.groupby('cluster')['exp_score', 'eng_score'].mean()"
      ],
      "execution_count": 247,
      "outputs": [
        {
          "output_type": "execute_result",
          "data": {
            "text/html": [
              "<div>\n",
              "<style scoped>\n",
              "    .dataframe tbody tr th:only-of-type {\n",
              "        vertical-align: middle;\n",
              "    }\n",
              "\n",
              "    .dataframe tbody tr th {\n",
              "        vertical-align: top;\n",
              "    }\n",
              "\n",
              "    .dataframe thead th {\n",
              "        text-align: right;\n",
              "    }\n",
              "</style>\n",
              "<table border=\"1\" class=\"dataframe\">\n",
              "  <thead>\n",
              "    <tr style=\"text-align: right;\">\n",
              "      <th></th>\n",
              "      <th>exp_score</th>\n",
              "      <th>eng_score</th>\n",
              "    </tr>\n",
              "    <tr>\n",
              "      <th>cluster</th>\n",
              "      <th></th>\n",
              "      <th></th>\n",
              "    </tr>\n",
              "  </thead>\n",
              "  <tbody>\n",
              "    <tr>\n",
              "      <th>0</th>\n",
              "      <td>244.532285</td>\n",
              "      <td>1.732051</td>\n",
              "    </tr>\n",
              "    <tr>\n",
              "      <th>1</th>\n",
              "      <td>627.763852</td>\n",
              "      <td>4.213680</td>\n",
              "    </tr>\n",
              "  </tbody>\n",
              "</table>\n",
              "</div>"
            ],
            "text/plain": [
              "          exp_score  eng_score\n",
              "cluster                       \n",
              "0        244.532285   1.732051\n",
              "1        627.763852   4.213680"
            ]
          },
          "metadata": {
            "tags": []
          },
          "execution_count": 247
        }
      ]
    },
    {
      "cell_type": "markdown",
      "metadata": {
        "id": "U6CsQltSlVuy",
        "colab_type": "text"
      },
      "source": [
        "export to sql"
      ]
    },
    {
      "cell_type": "code",
      "metadata": {
        "id": "fG7WhKDzk77V",
        "colab_type": "code",
        "colab": {}
      },
      "source": [
        "import sqlite3\n",
        "\n",
        "conn = sqlite3.connect('user_scoreDB.db')\n",
        "cursor = conn.cursor()"
      ],
      "execution_count": 263,
      "outputs": []
    },
    {
      "cell_type": "code",
      "metadata": {
        "id": "WPrgEeHQlcZh",
        "colab_type": "code",
        "colab": {}
      },
      "source": [
        "cursor.execute('CREATE TABLE metric_scores (id, Engagement_Score, Experience_Score, Satisfaction_Score)')\n",
        "conn.commit()"
      ],
      "execution_count": 267,
      "outputs": []
    },
    {
      "cell_type": "code",
      "metadata": {
        "id": "1gdtH3-AluGw",
        "colab_type": "code",
        "colab": {
          "base_uri": "https://localhost:8080/",
          "height": 34
        },
        "outputId": "463499ad-a349-4ad5-a5ce-7af8aadabd10"
      },
      "source": [
        "train_df.drop('cluster', axis = 1).to_sql('id', conn, if_exists='replace', index=False)\n",
        "print('Completed.!!!')"
      ],
      "execution_count": 268,
      "outputs": [
        {
          "output_type": "stream",
          "text": [
            "Completed.!!!\n"
          ],
          "name": "stdout"
        }
      ]
    },
    {
      "cell_type": "code",
      "metadata": {
        "id": "KKok8Yk2mOHZ",
        "colab_type": "code",
        "colab": {
          "base_uri": "https://localhost:8080/",
          "height": 34
        },
        "outputId": "d69de00d-4da9-41e4-a354-6fd3aa4af3c5"
      },
      "source": [
        "cursor.execute(\"\"\"select * from id\"\"\")"
      ],
      "execution_count": 269,
      "outputs": [
        {
          "output_type": "execute_result",
          "data": {
            "text/plain": [
              "<sqlite3.Cursor at 0x7fe9d5c3c490>"
            ]
          },
          "metadata": {
            "tags": []
          },
          "execution_count": 269
        }
      ]
    },
    {
      "cell_type": "code",
      "metadata": {
        "id": "Vok53wTFmtNb",
        "colab_type": "code",
        "colab": {
          "base_uri": "https://localhost:8080/",
          "height": 34
        },
        "outputId": "061d6c70-c75c-4701-df58-6dc4d27f0e23"
      },
      "source": [
        "conn.close()\n",
        "print('Succesfully Closed')"
      ],
      "execution_count": 270,
      "outputs": [
        {
          "output_type": "stream",
          "text": [
            "Succesfully Closed\n"
          ],
          "name": "stdout"
        }
      ]
    },
    {
      "cell_type": "code",
      "metadata": {
        "id": "j0ZhDvs_mafq",
        "colab_type": "code",
        "colab": {}
      },
      "source": [
        ""
      ],
      "execution_count": null,
      "outputs": []
    }
  ]
}